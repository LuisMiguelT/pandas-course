{
 "cells": [
  {
   "cell_type": "markdown",
   "metadata": {},
   "source": [
    "# Cuaderno 12: Multi-índices\n",
    "\n",
    "El uso de multi-índices en objetos del tipo `Series` o `DataFrame` es útil para organizar jerárquicamente la información y puede considerarse como el equivalente a la definición de arreglos multdimensionales en `numpy`.\n",
    "\n",
    "Examinaremos en este cuaderno algunas maneras para crear, utilizar y manipular multi-índices. Empezamos por importar los módulos de `pandas`y `numpy`:"
   ]
  },
  {
   "cell_type": "code",
   "execution_count": null,
   "metadata": {},
   "outputs": [],
   "source": [
    "# importar pandas y NumPy\n",
    "import numpy as np\n",
    "import pandas as pd"
   ]
  },
  {
   "cell_type": "markdown",
   "metadata": {},
   "source": [
    "Supongamos que queremos definir una serie de datos con el número de fallecidos en las provincias de Pichincha, Guayas y Manabí durante los meses de abril y mayo del año 2020. Una primera idea puede ser utilizar tuplas para indexar esta serie:"
   ]
  },
  {
   "cell_type": "code",
   "execution_count": null,
   "metadata": {},
   "outputs": [],
   "source": [
    "# fallecidos en Pichincha, Guayas y Manabí en abril y mayo de 2020\n",
    "# datos obtenidos de la base del Registro Civil\n",
    "sfallecidos = pd.Series([12242, 2580, 1284, 1582, 1654, 1257], \n",
    "                        index= [('Guayas', 'abril'), ('Guayas', 'mayo'), \n",
    "                                ('Pichincha', 'abril'), ('Pichincha', 'mayo'), \n",
    "                                ('Manabí', 'abril'), ('Manabí', 'mayo')], \n",
    "                        name='Fallecidos')\n",
    "print(sfallecidos)\n",
    "print('---')\n",
    "# mostrar los datos de Pichincha\n",
    "print(sfallecidos[('Pichincha', 'abril'):('Pichincha', 'mayo')])\n",
    "print('---')\n",
    "# mostrar los datos de mayo\n",
    "print(sfallecidos.index)\n",
    "print([i for i in sfallecidos.index if i[1]=='mayo'])\n",
    "print(sfallecidos[[i for i in sfallecidos.index if i[1]=='mayo']])\n"
   ]
  },
  {
   "cell_type": "markdown",
   "metadata": {},
   "source": [
    "Sin embargo, esta opción es poco flexible. En particular, realizar consultas como la última a través de *list comprehensions* es muy ineficiente. Aquí es más conveniente definir un multi-índice:"
   ]
  },
  {
   "cell_type": "code",
   "execution_count": null,
   "metadata": {},
   "outputs": [],
   "source": [
    "indice = pd.MultiIndex.from_tuples([('Guayas', 'abril'), ('Guayas', 'mayo'), \n",
    "                       ('Pichincha', 'abril'), ('Pichincha', 'mayo'), \n",
    "                       ('Manabí', 'abril'), ('Manabí', 'mayo')])\n",
    "print(indice)"
   ]
  },
  {
   "cell_type": "markdown",
   "metadata": {},
   "source": [
    "Puede fijarse este nuevo índice como índice de la serie `sfallecidos`, empleando el método `reindex`:"
   ]
  },
  {
   "cell_type": "code",
   "execution_count": null,
   "metadata": {},
   "outputs": [],
   "source": [
    "sfallecidos = sfallecidos.reindex(indice)\n",
    "print(sfallecidos)"
   ]
  },
  {
   "cell_type": "markdown",
   "metadata": {},
   "source": [
    "Podemos trabajar con una serie o un DataFrame indexado por un multi-índice tal y como lo haríamos con un arreglo multidimensional en `numpy`:"
   ]
  },
  {
   "cell_type": "code",
   "execution_count": null,
   "metadata": {},
   "outputs": [],
   "source": [
    "# mostrar los datos de Pichincha\n",
    "print(sfallecidos['Pichincha',:])\n",
    "print('---')\n",
    "# mostrar los datos de mayo\n",
    "print(sfallecidos[:,'mayo'])"
   ]
  },
  {
   "cell_type": "markdown",
   "metadata": {},
   "source": [
    "Notar que en este caso, las dos dimensiones del multi-índice de la serie podrían haberse utlizado también como dimensiones para las filas y columnas de un DataFrame. De hecho, la transformación de una serie con un índice bidimensional en un DataFrame puede realizarse con el método `unstack()`:  "
   ]
  },
  {
   "cell_type": "code",
   "execution_count": null,
   "metadata": {},
   "outputs": [],
   "source": [
    "dffallecidos = sfallecidos.unstack()\n",
    "display(dffallecidos)"
   ]
  },
  {
   "cell_type": "markdown",
   "metadata": {},
   "source": [
    "El método `stack()` realiza la operación inversa:"
   ]
  },
  {
   "cell_type": "code",
   "execution_count": null,
   "metadata": {},
   "outputs": [],
   "source": [
    "print(dffallecidos.stack())"
   ]
  },
  {
   "cell_type": "markdown",
   "metadata": {},
   "source": [
    "Sin embargo, los multi-índices son más generales: pueden emplearse multiíndices de más de dos dimensiones tanto en objetos tipo `Series` como en objetos tipo `DataFrame`. En estos últimos, pueden emplearse multi-índices tanto en las filas como en las columnas:"
   ]
  },
  {
   "cell_type": "code",
   "execution_count": null,
   "metadata": {},
   "outputs": [],
   "source": [
    "sfallecidos2019 = pd.Series([1863, 1705, 1002, 1074, 554, 450], \n",
    "                        index= indice, \n",
    "                        name='Fallecidos 2019')\n",
    "print(sfallecidos2019)\n",
    "print('---')\n",
    "df_fallecidos = pd.DataFrame({'2019' : sfallecidos2019, '2020' : sfallecidos})\n",
    "display(df_fallecidos)"
   ]
  },
  {
   "cell_type": "markdown",
   "metadata": {},
   "source": [
    "## Creación de multi-índices:\n",
    "\n",
    "La forma más directa para crear un multi-índice es empleando uno de los métodos constructores disponibles en la clase `MultiIndex`. Por ejemplo, el método `from_tuples` empleado en la clase anterior, crea un multi-índice a partir de una lista de tuplas de la misma dimensión:"
   ]
  },
  {
   "cell_type": "code",
   "execution_count": null,
   "metadata": {},
   "outputs": [],
   "source": [
    "# crear un muli-índice a partir de una lista de tuplas:\n",
    "# los valores de cada componente de la tupla determinan los valores para cada nivel del índice\n",
    "indice = pd.MultiIndex.from_tuples([('Guayas', 'abril'), ('Guayas', 'mayo'), \n",
    "                       ('Pichincha', 'abril'), ('Pichincha', 'mayo'), \n",
    "                       ('Manabí', 'abril'), ('Manabí', 'mayo')])\n",
    "print(indice)"
   ]
  },
  {
   "cell_type": "markdown",
   "metadata": {},
   "source": [
    "A veces resulta útil especificar nombres para los distintos niveles del índice. Esto puede hacerse con el parámetro `names`:"
   ]
  },
  {
   "cell_type": "code",
   "execution_count": null,
   "metadata": {},
   "outputs": [],
   "source": [
    "indice = pd.MultiIndex.from_tuples([('Guayas', 'abril'), ('Guayas', 'mayo'), \n",
    "                       ('Pichincha', 'abril'), ('Pichincha', 'mayo'), \n",
    "                       ('Manabí', 'abril'), ('Manabí', 'mayo')], names=['Provincia', 'Mes'])\n",
    "print(indice)\n",
    "print('---')\n",
    "sfallecidos = sfallecidos.reindex(indice)\n",
    "print(sfallecidos)"
   ]
  },
  {
   "cell_type": "markdown",
   "metadata": {},
   "source": [
    "El constructor `from_array` recibe como parámetro una lista de arreglos con los valores de cada uno de los niveles del multi-índice:"
   ]
  },
  {
   "cell_type": "code",
   "execution_count": null,
   "metadata": {},
   "outputs": [],
   "source": [
    "indice = pd.MultiIndex.from_arrays([['Guayas', 'Guayas', 'Pichincha', 'Pichincha', 'Manabí', 'Manabí'], \n",
    "                                   ['abril', 'mayo', 'abril', 'mayo','abril', 'mayo']], \n",
    "                                  names=['Provincia', 'Mes'])\n",
    "print(indice)\n"
   ]
  },
  {
   "cell_type": "markdown",
   "metadata": {},
   "source": [
    "El constructor `from_product` genera las tuplas del multi-índice a partir del producto cartesiano de varias listas:"
   ]
  },
  {
   "cell_type": "code",
   "execution_count": null,
   "metadata": {},
   "outputs": [],
   "source": [
    "indice = pd.MultiIndex.from_product([['Guayas', 'Pichincha', 'Manabí'], ['abril', 'mayo']], \n",
    "                                  names=['Provincia', 'Mes'])\n",
    "print(indice)\n"
   ]
  },
  {
   "cell_type": "markdown",
   "metadata": {},
   "source": [
    "En un DataFrame, pueden usarse multi-índices tanto para las filas (al fijar el parámetro `index` del constructor) como para las columnas (al fijar el parámetro `columns`). Por ejemplo, vamos a resumir en un DataFrame el número de nacimientos y de fallecimientos registrados en los meses de abril y mayo de los años 2019 y 2020:"
   ]
  },
  {
   "cell_type": "code",
   "execution_count": null,
   "metadata": {},
   "outputs": [],
   "source": [
    "# crear multi-índice para usar en las filas\n",
    "indice = pd.MultiIndex.from_product([['Guayas', 'Pichincha', 'Manabí'], ['abril', 'mayo']], \n",
    "                                  names=['Provincia', 'Mes'])\n",
    "# crear multi-índice para usar en las columnas\n",
    "columnas = pd.MultiIndex.from_product([['2019', '2020'], ['Nacimientos', 'Fallecimientos']], \n",
    "                                      names=['Año', 'Indicador'])\n",
    "# crear DataFrame con datos inicializados a cero\n",
    "df = pd.DataFrame(np.zeros((6,4), dtype=int), index= indice, columns= columnas)\n",
    "display(df)\n",
    "# llenar datos por columnas\n",
    "df['2019', 'Nacimientos'] = [6190, 6175, 3975, 4003, 2342, 2327]  # datos ficticios\n",
    "df['2019', 'Fallecimientos'] = [1863, 1705, 1002, 1074, 554, 450]\n",
    "df['2020', 'Nacimientos'] = [6201, 6187, 3960, 3991, 2353, 2336]  # datos ficticios\n",
    "df['2020', 'Fallecimientos'] = [12242, 2580, 1284, 1582, 1654, 1257]\n",
    "display(df)"
   ]
  },
  {
   "cell_type": "markdown",
   "metadata": {},
   "source": [
    "Podemos ahora acceder de manera fácil a los datos de un año:"
   ]
  },
  {
   "cell_type": "code",
   "execution_count": null,
   "metadata": {},
   "outputs": [],
   "source": [
    "# datos del 2019\n",
    "display(df['2019'])\n"
   ]
  },
  {
   "cell_type": "markdown",
   "metadata": {},
   "source": [
    "## Indexación y selección\n",
    "\n",
    "### Series con multi-índices\n",
    "\n",
    "Consideremos una vez más la serie con los fallecimientos en abril y mayo de 2020, en las provincias de Guayas, Pichincha y Manabí."
   ]
  },
  {
   "cell_type": "code",
   "execution_count": null,
   "metadata": {},
   "outputs": [],
   "source": [
    "indice = pd.MultiIndex.from_arrays([['Guayas', 'Manabí', 'Pichincha', 'Pichincha', 'Manabí', 'Guayas'], \n",
    "                                   ['abril', 'mayo', 'abril', 'mayo','abril', 'mayo']], \n",
    "                                  names=['Provincia', 'Mes'])\n",
    "sfallecidos = pd.Series([12242, 1257, 1284, 1582, 1654, 2580], \n",
    "                        index= indice, name='Fallecidos')\n",
    "print(sfallecidos)\n"
   ]
  },
  {
   "cell_type": "markdown",
   "metadata": {},
   "source": [
    "Para acceder a un elemento específico, utilizamos la tupla de valores correspondientes del multi-índice (los paréntesis pueden omitirse):"
   ]
  },
  {
   "cell_type": "code",
   "execution_count": null,
   "metadata": {},
   "outputs": [],
   "source": [
    "# número de fallecidos en mayo en Pichincha\n",
    "print(sfallecidos['Pichincha', 'mayo'])"
   ]
  },
  {
   "cell_type": "markdown",
   "metadata": {},
   "source": [
    "Se pueden especificar valores únicamente para los primeros niveles del multi-índice, en cuyo caso el resultado es una serie indexada por los niveles restantes. Esto se conoce como *indexación parcial*:"
   ]
  },
  {
   "cell_type": "code",
   "execution_count": null,
   "metadata": {},
   "outputs": [],
   "source": [
    "# número de fallecidos en Manabí\n",
    "print(sfallecidos['Manabí'])"
   ]
  },
  {
   "cell_type": "markdown",
   "metadata": {},
   "source": [
    "No es posible realizar indexación parcial por los últimos niveles directamente:"
   ]
  },
  {
   "cell_type": "code",
   "execution_count": null,
   "metadata": {},
   "outputs": [],
   "source": [
    "# esto produce un error:\n",
    "print(sfallecidos['mayo'])"
   ]
  },
  {
   "cell_type": "markdown",
   "metadata": {},
   "source": [
    "Ciertas operaciones requieren que los valores de los diferentes niveles de un multi-índice se encuentren ordenados (lexicográficamente). Para ello, puede utilizarse el método `sort_index`:"
   ]
  },
  {
   "cell_type": "code",
   "execution_count": null,
   "metadata": {},
   "outputs": [],
   "source": [
    "print(sfallecidos)\n",
    "sfallecidos = sfallecidos.sort_index()\n",
    "print('---')\n",
    "print(sfallecidos)\n"
   ]
  },
  {
   "cell_type": "markdown",
   "metadata": {},
   "source": [
    "Cuando el multi-índice está ordenado, se puede utilizar indexación parcial sobre cualquier nivel. Para ello, se emplea el operador de rango `:` de manera similar a como se utilizaría con arreglos multidimensionales en `numpy`. Notar que la respuesta es una serie indexada por los niveles restantes del multi-índice:"
   ]
  },
  {
   "cell_type": "code",
   "execution_count": null,
   "metadata": {},
   "outputs": [],
   "source": [
    "# listar todos los fallecidos en mayo\n",
    "print(sfallecidos[:,'mayo'])"
   ]
  },
  {
   "cell_type": "markdown",
   "metadata": {},
   "source": [
    "Si el multi-índice está ordenado, es posible además la selección parcial (*partial slicing*) utilizando el operador de rango `:` sobre uno o más niveles del índice:"
   ]
  },
  {
   "cell_type": "code",
   "execution_count": null,
   "metadata": {},
   "outputs": [],
   "source": [
    "# listar los fallecidos en Manabí y Pichincha\n",
    "print(sfallecidos['Manabí': 'Pichincha'])"
   ]
  },
  {
   "cell_type": "markdown",
   "metadata": {},
   "source": [
    "La indexación a través de expresiones booleanas (filtrado) también está disponible en series con multi-índices:"
   ]
  },
  {
   "cell_type": "code",
   "execution_count": null,
   "metadata": {},
   "outputs": [],
   "source": [
    "# seleccionar todas las entradas con más de 1500 fallecidos\n",
    "print(sfallecidos[sfallecidos > 1500])"
   ]
  },
  {
   "cell_type": "markdown",
   "metadata": {},
   "source": [
    "Finalmente, en una selección es posible especificar listas de valores para los primeros niveles del multi-índice:"
   ]
  },
  {
   "cell_type": "code",
   "execution_count": null,
   "metadata": {},
   "outputs": [],
   "source": [
    "# seleccionar los datos de Guayas y Pichincha\n",
    "print(sfallecidos[['Guayas', 'Pichincha']])"
   ]
  },
  {
   "cell_type": "markdown",
   "metadata": {},
   "source": [
    "### DataFrames con multi-índices\n",
    "\n",
    "Consideremos nuevamente el DataFrame con multi-índices que almacena información acerca del número de nacimientos y fallecimientos en los meses de abril y mayo de los años 2019 y 2020, en las provincias de Guayas, Pichincha y Manabí:"
   ]
  },
  {
   "cell_type": "code",
   "execution_count": null,
   "metadata": {},
   "outputs": [],
   "source": [
    "# crear multi-índice para usar en las filas\n",
    "indice = pd.MultiIndex.from_product([['Guayas', 'Pichincha', 'Manabí'], ['abril', 'mayo']], \n",
    "                                  names=['Provincia', 'Mes'])\n",
    "# crear multi-índice para usar en las columnas\n",
    "columnas = pd.MultiIndex.from_product([['2019', '2020'], ['Nacimientos', 'Fallecimientos']], \n",
    "                                      names=['Año', 'Indicador'])\n",
    "# crear DataFrame con datos inicializados a cero\n",
    "df = pd.DataFrame(np.zeros((6,4), dtype=int), index= indice, columns= columnas)\n",
    "# llenar datos por columnas\n",
    "df['2019', 'Nacimientos'] = [6190, 6175, 3975, 4003, 2342, 2327]  # datos ficticios\n",
    "df['2019', 'Fallecimientos'] = [1863, 1705, 1002, 1074, 554, 450]\n",
    "df['2020', 'Nacimientos'] = [6201, 6187, 3960, 3991, 2353, 2336]  # datos ficticios\n",
    "df['2020', 'Fallecimientos'] = [12242, 2580, 1284, 1582, 1654, 1257]\n",
    "display(df)"
   ]
  },
  {
   "cell_type": "markdown",
   "metadata": {},
   "source": [
    "La sintaxis empleada para las series puede aplicarse para seleccionar *columnas* del DataFrame, o para realizar indexación parcial por los primeros niveles de las columnas:"
   ]
  },
  {
   "cell_type": "code",
   "execution_count": null,
   "metadata": {},
   "outputs": [],
   "source": [
    "# seleccionar columna de los nacimientos en 2020\n",
    "print(df['2020', 'Nacimientos'])\n",
    "\n",
    "# seleccionar DataFrame con la información del 2020\n",
    "display(df['2020'])\n"
   ]
  },
  {
   "cell_type": "markdown",
   "metadata": {},
   "source": [
    "El método `sort_index` ordena lexicográficamente los multi-índices de fila y de columna de un DataFrame:"
   ]
  },
  {
   "cell_type": "code",
   "execution_count": null,
   "metadata": {},
   "outputs": [],
   "source": [
    "# ordeno el índice de las filas\n",
    "df = df.sort_index()\n",
    "# ordeno el índice de las columnas\n",
    "df = df.sort_index(axis=1)\n",
    "display(df)\n"
   ]
  },
  {
   "cell_type": "markdown",
   "metadata": {},
   "source": [
    "Pueden usarse los métodos `loc` y `iloc` para seleccionar regiones del DataFrame de la misma manera en la se usan en el caso de índices simples:"
   ]
  },
  {
   "cell_type": "code",
   "execution_count": null,
   "metadata": {},
   "outputs": [],
   "source": [
    "# primeras cuatro filas y últimas dos columnas:\n",
    "display(df.iloc[:4,-2:])\n",
    "\n",
    "# útlimas tres filas\n",
    "display(df.iloc[3:,:])\n",
    "\n",
    "# primera columna\n",
    "display(df.iloc[:,0])"
   ]
  },
  {
   "cell_type": "markdown",
   "metadata": {},
   "source": [
    "Si se emplea el método `loc`, debe recordarse que los valores de un multi-índice son tuplas:"
   ]
  },
  {
   "cell_type": "code",
   "execution_count": null,
   "metadata": {},
   "outputs": [],
   "source": [
    "# datos de Guayas y Manabí en el 2020\n",
    "display(df.loc[('Guayas', 'abril') : ('Manabí', 'mayo'), ('2020' , 'Fallecimientos'):])"
   ]
  },
  {
   "cell_type": "markdown",
   "metadata": {},
   "source": [
    "Aunque el operador de rango `:` puede emplearse *entre* tuplas al utilizar `loc`, no es posible usar este operador *dentro de* una tupla. Para establecer rangos dentro de cada tupla, debe emplearse un objeto tipo `IndexSlice`:"
   ]
  },
  {
   "cell_type": "code",
   "execution_count": null,
   "metadata": {},
   "outputs": [],
   "source": [
    "idx = pd.IndexSlice\n",
    "# datos de fallecimientos\n",
    "display(df.loc[:, idx[:,'Fallecimientos']])\n",
    "\n",
    "# datos de abril\n",
    "display(df.loc[idx[:, 'abril'], :])\n",
    "\n",
    "# datos de fallecimientos en abril\n",
    "display(df.loc[idx[:, 'abril'], idx[:,'Fallecimientos']])\n",
    "\n"
   ]
  },
  {
   "cell_type": "markdown",
   "metadata": {},
   "source": [
    "## Reorganizando multi-índices\n",
    "\n",
    "Es posible pasar índices de filas a columnas empleando el método `unstack`. Por defecto, el último nivel del índice de fila pasa a ser el último nivel del índice de columna. Esto puede cambiarse especificando el nivel del índice de fila a pasar a las columnas en el parámetro `level`:  "
   ]
  },
  {
   "cell_type": "code",
   "execution_count": null,
   "metadata": {},
   "outputs": [],
   "source": [
    "display(df)\n",
    "\n",
    "# pasar mes a índice de columna\n",
    "display(df.unstack())\n",
    "\n",
    "# pasar provincia a índice de columna\n",
    "display(df.unstack(level = 0))\n",
    "\n",
    "# pasar mes y luego provincia a índice de columna\n",
    "display(df.unstack().unstack())\n",
    "\n",
    "# pasar provincia y luego mes a índice de columna \n",
    "display(df.unstack(level = 0).unstack())\n"
   ]
  },
  {
   "cell_type": "markdown",
   "metadata": {},
   "source": [
    "Notar que en los dos últimos ejemplos el índice de fila se queda vacío, por lo que el objeto DataFrame se transforma en una serie.\n",
    "\n",
    "El método `stack()` realiza la operación inversa: pasa un nivel de los índices de columnas como último nivel de los índices de filas. Por defecto, se pasa el último nivel, aunque esto puede cambiarse especificando un valor para el parámetro `level`:"
   ]
  },
  {
   "cell_type": "code",
   "execution_count": null,
   "metadata": {},
   "outputs": [],
   "source": [
    "display(df)\n",
    "\n",
    "# pasar el indicador como último nivel del índice de fila\n",
    "display(df.stack())\n",
    "\n",
    "# pasar el año como último nivel del índice de fila\n",
    "display(df.stack(level = 0))\n",
    "\n",
    "# pasar el indicador y luego el año como últimos niveles del índice de fila\n",
    "display(df.stack().stack())\n",
    "\n",
    "# pasar el año y luego el indicador como últimos niveles del índice de fila\n",
    "display(df.stack(level = 0).stack())\n"
   ]
  },
  {
   "cell_type": "markdown",
   "metadata": {},
   "source": [
    "Notar nuevamente que en los dos últimos ejemplos el DataFrame se convierte en una serie, pues los índices de columna desaparecen.\n",
    "\n",
    "El método `reset_index` elimina todos los niveles del índice de filas de un DataFrame (o todos los niveles del índice de una serie) y los coloca como columnas en un DataFrame. Combinando este método con el método `stack()`, es posible poner el DataFrame de nuestro ejemplo en una forma \"plana\".  Es conveniente especificar un nombre para la única columna de datos, empleando el parámetro `name`:"
   ]
  },
  {
   "cell_type": "code",
   "execution_count": null,
   "metadata": {},
   "outputs": [],
   "source": [
    "# transformar el DataFrame en una serie, al eliminar los índices de columna\n",
    "ds = df.stack().stack()\n",
    "print(ds)\n",
    "\n",
    "df2 = ds.reset_index(name='Valor')\n",
    "display(df2)"
   ]
  },
  {
   "cell_type": "markdown",
   "metadata": {},
   "source": [
    "De manera inversa, con el método `set_index` es posible definir un (multi)-índice para las filas a partir de los valores de una o más columnas de un DataFrame:"
   ]
  },
  {
   "cell_type": "code",
   "execution_count": null,
   "metadata": {},
   "outputs": [],
   "source": [
    "# Construir multi-índice con (Indicador, Año, Mes, Provincia) \n",
    "df3 = df2.set_index(['Indicador', 'Año', 'Mes', 'Provincia'])\n",
    "df3 = df3.sort_index()\n",
    "display(df3)\n",
    "\n",
    "# Pasar provincia a columnas\n",
    "display(df3.unstack())\n",
    "\n",
    "# Pasar provincia y luego año a columnas\n",
    "display(df3.unstack().unstack(level=1))\n"
   ]
  },
  {
   "cell_type": "markdown",
   "metadata": {},
   "source": [
    "## Métodos de agregación\n",
    "\n",
    "Los métodos de agregación (como `sum`, `min`, `max`, etc) aceptan un parámetro `level` que puede utilizarse en el caso de multi-índices para especificar un nivel de agregación:"
   ]
  },
  {
   "cell_type": "code",
   "execution_count": null,
   "metadata": {},
   "outputs": [],
   "source": [
    "df4 = df3.unstack().unstack(level=1)\n",
    "display(df4)\n",
    "\n",
    "# promedios de fallecimientos y nacimientos en abril y mayo\n",
    "display(df4.mean(level='Indicador'))\n",
    "\n",
    "# total de fallecimientos y nacimientos por mes y año\n",
    "display(df4.sum(axis=1, level='Año').sum(level='Indicador'))"
   ]
  },
  {
   "cell_type": "markdown",
   "metadata": {},
   "source": [
    "Más información sobre indexación jerárquica y multi-índices está disponible en la documentación del sitio web de `pandas`: <https://pandas.pydata.org/pandas-docs/stable/user_guide/advanced.html>."
   ]
  },
  {
   "cell_type": "code",
   "execution_count": null,
   "metadata": {},
   "outputs": [],
   "source": []
  }
 ],
 "metadata": {
  "kernelspec": {
   "display_name": "Python 3",
   "language": "python",
   "name": "python3"
  },
  "language_info": {
   "codemirror_mode": {
    "name": "ipython",
    "version": 3
   },
   "file_extension": ".py",
   "mimetype": "text/x-python",
   "name": "python",
   "nbconvert_exporter": "python",
   "pygments_lexer": "ipython3",
   "version": "3.8.5"
  }
 },
 "nbformat": 4,
 "nbformat_minor": 2
}
