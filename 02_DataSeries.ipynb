{
 "cells": [
  {
   "cell_type": "markdown",
   "metadata": {},
   "source": [
    "# Cuaderno 10: Series\n",
    "\n",
    "En este cuaderno iniciamos la revisión del módulo `pandas` del lenguaje Python. Este módulo implementa estructuras de datos rápidas y flexibles para la manipulación de conjuntos de datos *etiquetados* y *relacionales*, conjuntamente con funciones para su análisis.\n",
    "\n",
    "La clase `Series` es una de las dos estructuras de datos fundamentales de `pandas`. Está diseñada para implementar arreglos unidimensionales de valores indexados por etiquetas. Tiene por tanto características comunes con los tipos `ndarray` de NumPy y `dict` (diccionario).\n",
    "\n",
    "Es usual importar el módulo `pandas` con el alias `pd`:"
   ]
  },
  {
   "cell_type": "code",
   "execution_count": 1,
   "metadata": {},
   "outputs": [],
   "source": [
    "import pandas as pd\n",
    "# también necesitaremos en este cuaderno el módulo NumPy\n",
    "import numpy as np"
   ]
  },
  {
   "cell_type": "markdown",
   "metadata": {},
   "source": [
    "# Creación de Series\n",
    "\n",
    "Un objeto de tipo `Series` puede crearse a partir de un arreglo unidimensional de NumPy y una lista de *etiquetas* o *claves* para cada elemento del arreglo. Esta lista de claves se conoce como **índice** de la serie y está referida por el atributo `index`: "
   ]
  },
  {
   "cell_type": "code",
   "execution_count": null,
   "metadata": {},
   "outputs": [],
   "source": [
    "s = pd.Series(np.random.randint(1, 10, 5), index=['a', 'b', 'c', 'd', 'e'])\n",
    "print(s)\n",
    "print('---')\n",
    "print(type(s))\n",
    "print(s.index)"
   ]
  },
  {
   "cell_type": "markdown",
   "metadata": {},
   "source": [
    "Los elementos del índice pueden ser de diferentes tipos. Los valores de la serie son del mismo tipo, pues provienen de un arreglo. El tipo de los valores de la serie está dado por el atributo `dtype`."
   ]
  },
  {
   "cell_type": "code",
   "execution_count": null,
   "metadata": {},
   "outputs": [],
   "source": [
    "s = pd.Series(np.random.randint(1, 10, 5), index=['a', 'b', 3, 'd', (1.5,2)])\n",
    "print(s)\n",
    "print('---')\n",
    "print(type(s))\n",
    "print(s.index)\n",
    "print(s.dtype)"
   ]
  },
  {
   "cell_type": "markdown",
   "metadata": {},
   "source": [
    "La lista especificada para los índices debe tener el mismo tamaño del arreglo, de lo contrario se genera un error."
   ]
  },
  {
   "cell_type": "code",
   "execution_count": null,
   "metadata": {},
   "outputs": [],
   "source": [
    "s = pd.Series(np.random.randint(1, 10, 5), index=['a', 'b', 'c', 'd'])\n",
    "print(s)"
   ]
  },
  {
   "cell_type": "markdown",
   "metadata": {},
   "source": [
    "Es posible omitir el índice al crear una serie, en cuyo caso se genera automáticamente un índice con enteros consecutivos empezando desde el cero."
   ]
  },
  {
   "cell_type": "code",
   "execution_count": null,
   "metadata": {},
   "outputs": [],
   "source": [
    "s = pd.Series(np.random.randint(1, 10, 5))\n",
    "print(s)\n",
    "print('---')\n",
    "print(type(s))\n",
    "print(s.index)"
   ]
  },
  {
   "cell_type": "markdown",
   "metadata": {},
   "source": [
    "Aunque el uso de elementos duplicados en un índice está permitido, es responsabilidad del programador determinar si aquello es semánticamente correcto en una aplicación dada (generalmente no lo será). Algunas funciones generan excepciones cuando se aplican sobre series con índices duplicados."
   ]
  },
  {
   "cell_type": "code",
   "execution_count": null,
   "metadata": {},
   "outputs": [],
   "source": [
    "s = pd.Series(np.random.randint(1, 10, 5), index=['a', 'b', 'c', 'd', 'a'])\n",
    "print(s)\n",
    "print('---')\n",
    "print(type(s))\n",
    "print(s.index)"
   ]
  },
  {
   "cell_type": "markdown",
   "metadata": {},
   "source": [
    "También es posible crear `Series` a partir de diccionarios, en cuyo caso las claves del diccionario pasan a ser los índices de la serie, y los valores del diccionario se transforman en los valores correspondientes de la serie. "
   ]
  },
  {
   "cell_type": "code",
   "execution_count": null,
   "metadata": {},
   "outputs": [],
   "source": [
    "import random\n",
    "D = {i : random.randint(10, 20) for i in range(1,6)}\n",
    "print(D)\n",
    "s = pd.Series(D)\n",
    "print(s)"
   ]
  },
  {
   "cell_type": "markdown",
   "metadata": {},
   "source": [
    "Si los valores del diccionario son de diferentes tipos, el atributo `dtype` de la serie es un tipo suficientemente genérico para albergar a todos su valores; en el caso más general se emplea el tipo `object`:"
   ]
  },
  {
   "cell_type": "code",
   "execution_count": null,
   "metadata": {},
   "outputs": [],
   "source": [
    "D[4]=5.33\n",
    "print(D)\n",
    "s = pd.Series(D)\n",
    "print(s)\n",
    "print('---')\n",
    "D[4]='casa'\n",
    "print(D)\n",
    "s = pd.Series(D)\n",
    "print(s)"
   ]
  },
  {
   "cell_type": "markdown",
   "metadata": {},
   "source": [
    "Es posible especificar explícitamente una lista de claves del diccionario para el índice, en cuyo caso la misma se emplea para extraer los valores correspondientes. Si uno de los elementos de la lista no es una clave del diccionario, en la posición correspondiente en la serie se inserta el valor `NaN`.\n",
    "\n",
    "`NaN` (*not a number*) es el marcador empleado siempre por `pandas` para indicar datos faltantes."
   ]
  },
  {
   "cell_type": "code",
   "execution_count": null,
   "metadata": {},
   "outputs": [],
   "source": [
    "D = {i : random.randint(10, 20) for i in range(1,6)}\n",
    "print(D)\n",
    "s = pd.Series(D, index=[1,3,7])\n",
    "print(s)"
   ]
  },
  {
   "cell_type": "markdown",
   "metadata": {},
   "source": [
    "Por último, es posible construir una serie a partir de un valor escalar $x$ y de una lista para el índice. En este caso, se entiende que *cada valor* de la serie es igual a $x$:"
   ]
  },
  {
   "cell_type": "code",
   "execution_count": null,
   "metadata": {},
   "outputs": [],
   "source": [
    "s = pd.Series(2, index=['a', 'b', 'c', 'd', 'e'])\n",
    "print(s)"
   ]
  },
  {
   "cell_type": "markdown",
   "metadata": {},
   "source": [
    "## Operaciones aritméticas, funciones e indexación\n",
    "\n",
    "Los valores de una serie se comportan como un arreglo unidimensional de NumPy. Es posible aplicar sobre ellos operaciones aritméticas vectorizadas y funciones universales que se evalúan elemento a elemento:"
   ]
  },
  {
   "cell_type": "code",
   "execution_count": null,
   "metadata": {},
   "outputs": [],
   "source": [
    "s1 = pd.Series(np.random.randint(11, 20, 5), index=['a', 'b', 'c', 'd', 'e'])\n",
    "s2 = pd.Series(np.random.randint(11, 20, 5), index=['a', 'b', 'c', 'd', 'e'])\n",
    "print('s1:')\n",
    "print(s1)\n",
    "print('---')\n",
    "print('s2:')\n",
    "print(s2)\n",
    "print('---')\n",
    "# elevar cada elemento de s1 al cuadrado\n",
    "print('s1**2:')\n",
    "print(s1**2)\n",
    "print('---')\n",
    "# sumar s1 y s2\n",
    "print('s1+s2:')\n",
    "print(s1+s2)\n",
    "print('---')\n",
    "# sumar 3 a cada elemento de s2\n",
    "print('s2+3:')\n",
    "print(s2+3)\n",
    "print('---')\n",
    "# calcular la raíz cuadrada de cada elemento de s2\n",
    "print('sqrt(s2):')\n",
    "print(np.sqrt(s2))\n"
   ]
  },
  {
   "cell_type": "markdown",
   "metadata": {},
   "source": [
    "De manera similar, pueden aplicarse las funciones de agregación disponibles para arreglos. Recordar que la serie tiene dimensión 1."
   ]
  },
  {
   "cell_type": "code",
   "execution_count": null,
   "metadata": {},
   "outputs": [],
   "source": [
    "print(\"Suma de los elementos de s1 : {}\".format(s1.sum()))\n",
    "print(\"Promedio de los elementos de s2 : {}\".format(s2.mean()))\n",
    "print(\"Máximo elemento de s1 : {}\".format(s1.max()))\n",
    "print(\"Mediana de los elementos de s2 : {}\".format(s2.median()))\n"
   ]
  },
  {
   "cell_type": "markdown",
   "metadata": {},
   "source": [
    "Puede usarse el operador de indexación `[]` para acceder a valores individuales de la serie. Para ello, puede asumirse que los elementos de la serie tienen índices enteros que empiezan desde cero. Adicionalmente, es posible emplear el operador de rango `:`  con todas las técnicas de *slicing*. \n",
    "\n",
    "Al indexar un elemento, se retorna únicamente su valor; al indexar un rango se retorna una subserie que comprende tanto los índices de la serie como sus valores:"
   ]
  },
  {
   "cell_type": "code",
   "execution_count": 2,
   "metadata": {},
   "outputs": [
    {
     "name": "stdout",
     "output_type": "stream",
     "text": [
      "a    19\n",
      "b    12\n",
      "c    11\n",
      "d    16\n",
      "e    18\n",
      "dtype: int64\n",
      "12\n",
      "18\n",
      "c    11\n",
      "d    16\n",
      "e    18\n",
      "dtype: int64\n",
      "d    16\n",
      "e    18\n",
      "dtype: int64\n",
      "a    19\n",
      "c    11\n",
      "e    18\n",
      "dtype: int64\n"
     ]
    }
   ],
   "source": [
    "s1 = pd.Series(np.random.randint(11, 20, 5), index=['a', 'b', 'c', 'd', 'e'])\n",
    "print(s1)\n",
    "print(s1[1])  # valor del 2do elemento\n",
    "print(s1[-1])  # valor del último elemento\n",
    "print(s1[2:])  # subserie desde el 3er elemento en adelante, índice y valor\n",
    "print(s1[-2:])  # subserie con los dos últimos elementos, índice y rango\n",
    "print(s1[0:5:2])  # subserie con los elementos 0, 2 y 4, índice y rango"
   ]
  },
  {
   "cell_type": "markdown",
   "metadata": {},
   "source": [
    "Los accesos pueden usarse tanto para lectura como para escritura:"
   ]
  },
  {
   "cell_type": "code",
   "execution_count": null,
   "metadata": {},
   "outputs": [],
   "source": [
    "s1[0]= -1\n",
    "s1[-2:]= 1\n",
    "print(s1)"
   ]
  },
  {
   "cell_type": "markdown",
   "metadata": {},
   "source": [
    "Es posible indexar una serie con una lista de índices:"
   ]
  },
  {
   "cell_type": "code",
   "execution_count": 3,
   "metadata": {},
   "outputs": [
    {
     "name": "stdout",
     "output_type": "stream",
     "text": [
      "a    19\n",
      "c    11\n",
      "d    16\n",
      "dtype: int64\n"
     ]
    }
   ],
   "source": [
    "print(s1[[0, 2, 3]])"
   ]
  },
  {
   "cell_type": "markdown",
   "metadata": {},
   "source": [
    "También es posible usar una expresión booleana como índice para filtrar ciertos elementos de una serie:"
   ]
  },
  {
   "cell_type": "code",
   "execution_count": 4,
   "metadata": {},
   "outputs": [
    {
     "name": "stdout",
     "output_type": "stream",
     "text": [
      "a    26\n",
      "b    21\n",
      "c    25\n",
      "d    24\n",
      "e    26\n",
      "dtype: int64\n",
      "---\n",
      "a    26\n",
      "b    21\n",
      "c    25\n",
      "d    24\n",
      "e    26\n",
      "dtype: int64\n"
     ]
    }
   ],
   "source": [
    "s1 = pd.Series(np.random.randint(10, 30, 5), index=['a', 'b', 'c', 'd', 'e'])\n",
    "print(s1)\n",
    "print('---')\n",
    "print(s1[s1 > 20])"
   ]
  },
  {
   "cell_type": "markdown",
   "metadata": {},
   "source": [
    "Los índices de una serie pueden utilizarse de manera similar que las claves de un diccionario para acceder a los valores asociados a estos:"
   ]
  },
  {
   "cell_type": "code",
   "execution_count": 5,
   "metadata": {},
   "outputs": [
    {
     "name": "stdout",
     "output_type": "stream",
     "text": [
      "21\n",
      "---\n",
      "a    26\n",
      "b    -2\n",
      "c    25\n",
      "d    24\n",
      "e    26\n",
      "dtype: int64\n",
      "---\n",
      "True\n",
      "False\n"
     ]
    }
   ],
   "source": [
    "print(s1['b'])\n",
    "print('---')\n",
    "s1['b']= -2\n",
    "print(s1)\n",
    "print('---')\n",
    "print('c' in s1)\n",
    "print('f' in s1)"
   ]
  },
  {
   "cell_type": "markdown",
   "metadata": {},
   "source": [
    "Como los índices de la serie pertenecen a una lista ordenada, es posible utilizar el operador de rango `:` para retornar subseries mediante *slicing*:"
   ]
  },
  {
   "cell_type": "code",
   "execution_count": 6,
   "metadata": {},
   "outputs": [
    {
     "name": "stdout",
     "output_type": "stream",
     "text": [
      "b    -2\n",
      "c    25\n",
      "d    24\n",
      "dtype: int64\n",
      "a    26\n",
      "b    -2\n",
      "dtype: int64\n",
      "c    25\n",
      "d    24\n",
      "e    26\n",
      "dtype: int64\n"
     ]
    }
   ],
   "source": [
    "print(s1['b':'d'])\n",
    "print(s1[:'b'])\n",
    "print(s1['c':])"
   ]
  },
  {
   "cell_type": "markdown",
   "metadata": {},
   "source": [
    "Notar que el criterio que determina el orden de los elementos en una serie es el orden de los índices especificado durante su creación:"
   ]
  },
  {
   "cell_type": "code",
   "execution_count": 7,
   "metadata": {},
   "outputs": [
    {
     "name": "stdout",
     "output_type": "stream",
     "text": [
      "e    18\n",
      "b    23\n",
      "c    28\n",
      "d    24\n",
      "a    25\n",
      "dtype: int64\n",
      "---\n",
      "Series([], dtype: int64)\n",
      "---\n",
      "e    18\n",
      "b    23\n",
      "dtype: int64\n"
     ]
    }
   ],
   "source": [
    "s1 = pd.Series(np.random.randint(10, 30, 5), index=['e', 'b', 'c', 'd', 'a'])\n",
    "print(s1)\n",
    "print('---')\n",
    "print(s1['a':'b'])\n",
    "print('---')\n",
    "print(s1['e':'b'])"
   ]
  },
  {
   "cell_type": "markdown",
   "metadata": {},
   "source": [
    "Cuando una serie es creada a partir de un diccionario, el orden de sus elementos está dado por el orden de inserción de los elementos en el diccionario:"
   ]
  },
  {
   "cell_type": "code",
   "execution_count": null,
   "metadata": {},
   "outputs": [],
   "source": [
    "s = pd.Series({'a' : -3, 'c' : 34, 'e' : 10, 'b' : 5, 'd' : -25})\n",
    "print(s)\n",
    "print(s.index)\n",
    "print(s['e':])"
   ]
  },
  {
   "cell_type": "markdown",
   "metadata": {},
   "source": [
    "Al igual que en un diccionario, intentar acceder a un elemento con un índice incorrecto produce una excepción del tipo `KeyError`:"
   ]
  },
  {
   "cell_type": "code",
   "execution_count": null,
   "metadata": {},
   "outputs": [],
   "source": [
    "print(s['f'])"
   ]
  },
  {
   "cell_type": "markdown",
   "metadata": {},
   "source": [
    "Alternativamente, la función `get` retorna el valor asociado a un índice de la serie, o el valor de `None` cuando se una un índice no válido:"
   ]
  },
  {
   "cell_type": "code",
   "execution_count": null,
   "metadata": {},
   "outputs": [],
   "source": [
    "print(s)\n",
    "print(s.get('a'))\n",
    "print(s.get('f'))"
   ]
  },
  {
   "cell_type": "markdown",
   "metadata": {},
   "source": [
    "Debe tenerse especial cuidado si una serie tiene como índice a una lista de números enteros. En las operaciones de indexación, se asumirá que el índice es un elemento de `index` cuando se accede a elementos individuales; pero cuando se especifican rangos, se asumirá que los índices se refieren a las posiciones en la serie:"
   ]
  },
  {
   "cell_type": "code",
   "execution_count": 8,
   "metadata": {},
   "outputs": [
    {
     "name": "stdout",
     "output_type": "stream",
     "text": [
      "4    15\n",
      "0    23\n",
      "3    22\n",
      "2    12\n",
      "1    22\n",
      "dtype: int64\n",
      "22\n",
      "4    15\n",
      "0    23\n",
      "dtype: int64\n",
      "Series([], dtype: int64)\n"
     ]
    }
   ],
   "source": [
    "s1 = pd.Series(np.random.randint(10, 30, 5), index=[4, 0, 3, 2, 1])\n",
    "print(s1)\n",
    "# para la siguiente indexación se interpreta a 0 como un elemento de la lista de índices\n",
    "print(s1[1])\n",
    "# para las siguientes operaciones, los \"índices\" indican posiciones\n",
    "print(s1[0:2])\n",
    "print(s1[3:1])"
   ]
  },
  {
   "cell_type": "markdown",
   "metadata": {},
   "source": [
    "Para resolver ambigüedades, pueden utilizarse las propiedades `loc[]` y `iloc[]`. Con `loc` se fuerza que la indexación sea en base a la lista de los elementos de `index`. Con `iloc` se fuerza que la indexación sea en base a posiciones en la serie:"
   ]
  },
  {
   "cell_type": "code",
   "execution_count": 9,
   "metadata": {},
   "outputs": [
    {
     "name": "stdout",
     "output_type": "stream",
     "text": [
      "4    15\n",
      "0    23\n",
      "3    22\n",
      "2    12\n",
      "1    22\n",
      "dtype: int64\n",
      "---\n",
      "22\n",
      "---\n",
      "23\n",
      "---\n",
      "0    23\n",
      "3    22\n",
      "2    12\n",
      "dtype: int64\n",
      "---\n",
      "4    15\n",
      "0    23\n",
      "dtype: int64\n"
     ]
    }
   ],
   "source": [
    "print(s1)\n",
    "print('---')\n",
    "# consultar el valor asociado al índice 1\n",
    "print(s1.loc[1])\n",
    "print('---')\n",
    "# consultar el elemento en la 2da posición\n",
    "print(s1.iloc[1])\n",
    "print('---')\n",
    "# rango desde el elemento asociado al índice 0, al elemento asociado al índice 2, INCLUSIVOS\n",
    "print(s1.loc[0:2])\n",
    "# rango del primer al segundo elementos\n",
    "print('---')\n",
    "print(s1.iloc[0:2])"
   ]
  },
  {
   "cell_type": "markdown",
   "metadata": {},
   "source": [
    "## Alineamiento\n",
    "\n",
    "Si se realizan operaciones entre dos series que requieran de la combinación de sus elementos individuales (por ejemplo, la suma de dos series), los elementos a combinar entre sí son aquellos que están asociados a los mismos índices, indistintamente de su posición en las series. Esto se conoce como *alineamiento* y es una de las características fundamentales de las series:"
   ]
  },
  {
   "cell_type": "code",
   "execution_count": null,
   "metadata": {},
   "outputs": [],
   "source": [
    "s1 = pd.Series(np.random.randint(10, 30, 5), index=['e', 'd', 'b', 'c', 'a'])\n",
    "s2 = pd.Series(np.random.randint(10, 30, 5), index=['a', 'b', 'c', 'e', 'd'])\n",
    "print(s1)\n",
    "print('---')\n",
    "print(s2)\n",
    "print('---')\n",
    "print(s1+s2)"
   ]
  },
  {
   "cell_type": "markdown",
   "metadata": {},
   "source": [
    "Si las series no tienen el mismo índice, la nueva serie está indexada por la unión de los dos índices. Aquellos elementos en los cuales no es posible realizar la operación (porque falta uno de los dos operandos) tienen  valores iguales a `NaN`:"
   ]
  },
  {
   "cell_type": "code",
   "execution_count": null,
   "metadata": {},
   "outputs": [],
   "source": [
    "s1 = pd.Series(np.random.randint(10, 30, 4), index=['d', 'b', 'c', 'a'])\n",
    "s2 = pd.Series(np.random.randint(10, 30, 4), index=['a', 'b', 'e', 'd'])\n",
    "print(s1)\n",
    "print('---')\n",
    "print(s2)\n",
    "print('---')\n",
    "print(s1+s2)"
   ]
  },
  {
   "cell_type": "markdown",
   "metadata": {},
   "source": [
    "## Accediendo al arreglo de valores\n",
    "\n",
    "A veces se requiere acceder al arreglo de los valores contenidos en una serie. Esto puede hacerse a través del atributo `array`:"
   ]
  },
  {
   "cell_type": "code",
   "execution_count": null,
   "metadata": {},
   "outputs": [],
   "source": [
    "print(s1)\n",
    "print(s1.array)\n",
    "print(type(s1.array))"
   ]
  },
  {
   "cell_type": "markdown",
   "metadata": {},
   "source": [
    "Notar que el tipo del atributo `array` es `PandasArray`. Si se desea obtener un arreglo en el formato NumPy debe emplearse el método `to_numpy()`:"
   ]
  },
  {
   "cell_type": "code",
   "execution_count": null,
   "metadata": {},
   "outputs": [],
   "source": [
    "print(s1.to_numpy())\n",
    "print(type(s1.to_numpy()))"
   ]
  },
  {
   "cell_type": "markdown",
   "metadata": {},
   "source": [
    "## Nombre de una serie\n",
    "\n",
    "Al crear una serie es posible especificar un nombre para la misma. Este nombre es accesible luego a través del atributo `name`:"
   ]
  },
  {
   "cell_type": "code",
   "execution_count": null,
   "metadata": {},
   "outputs": [],
   "source": [
    "s = pd.Series(np.random.randint(10, 30, 5), index=['a', 'b', 'c', 'd', 'e'], name='aleatorios')\n",
    "print(s)\n",
    "print('---')\n",
    "print(s.name)"
   ]
  },
  {
   "cell_type": "markdown",
   "metadata": {},
   "source": [
    "El método `rename` copia los valores e índices de una serie en una *nueva* serie, con un nuevo nombre:"
   ]
  },
  {
   "cell_type": "code",
   "execution_count": null,
   "metadata": {},
   "outputs": [],
   "source": [
    "s2 = s.rename('otra')\n",
    "# notar que s2 apunta a un nuevo objeto:\n",
    "s2[0]= 0\n",
    "print(s)\n",
    "print(s2)"
   ]
  },
  {
   "cell_type": "markdown",
   "metadata": {},
   "source": [
    "## Más información\n",
    "\n",
    "Para información más detallada acerca de la clase Series, incluyendo una guía del usuario y una guía de referencia del API, puede consultarse el sitio web de `pandas` <https://pandas.pydata.org/pandas-docs/stable/user_guide/dsintro.html#series>."
   ]
  },
  {
   "cell_type": "code",
   "execution_count": null,
   "metadata": {},
   "outputs": [],
   "source": []
  }
 ],
 "metadata": {
  "kernelspec": {
   "display_name": "Python 3",
   "language": "python",
   "name": "python3"
  },
  "language_info": {
   "codemirror_mode": {
    "name": "ipython",
    "version": 3
   },
   "file_extension": ".py",
   "mimetype": "text/x-python",
   "name": "python",
   "nbconvert_exporter": "python",
   "pygments_lexer": "ipython3",
   "version": "3.8.5"
  }
 },
 "nbformat": 4,
 "nbformat_minor": 4
}
