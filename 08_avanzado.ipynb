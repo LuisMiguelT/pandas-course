{
 "cells": [
  {
   "cell_type": "markdown",
   "metadata": {},
   "source": [
    "# Cuaderno 16: Aspectos avanzados\n",
    "\n",
    "En este cuaderno revisaremos funcionalidad adicional de Python y `pandas` que puede resultar útil para las tareas comunes en el procesamiento y análisis de datos.\n",
    "\n",
    "Empezamos por importar los módulos de `pandas`y `numpy`:"
   ]
  },
  {
   "cell_type": "code",
   "execution_count": 3,
   "metadata": {},
   "outputs": [],
   "source": [
    "# importar pandas y NumPy\n",
    "import numpy as np\n",
    "import pandas as pd"
   ]
  },
  {
   "cell_type": "markdown",
   "metadata": {},
   "source": [
    "## Trabajando con APIs\n",
    "\n",
    "Mucha información hoy en día está disponible en Internet a través de una tecnología conocida como [Web API](https://en.wikipedia.org/wiki/Web_API) que permite a un computador comunicarse con servidores a través de *puntos de acceso (endpoints)* empleando un sistema de mensajería tipo *petición-respuesta (request-response)*. La transmisión de información se realiza típicamente en uno de dos formatos: [JSON](https://en.wikipedia.org/wiki/JSON) o [XML](https://en.wikipedia.org/wiki/XML).\n",
    "\n",
    "Por ejemplo, la aplicación [SalvaVidas](https://covidmodemat.epn.edu.ec/#/) desarrollada en el ModeMat para difundir indicadores acerca del avance de la pandemia de COVID-19 en el Ecuador, utiliza un tipo de API basado conocido como REST-API y que está configurado para transmitir los datos en formato JSON. En el siguiente punto de acceso puede consultarse la evolución del número de casos totales a nivel nacional desde el inicio de la epidemia:\n",
    "\n",
    "https://covidmodemat.epn.edu.ec/api/evolucion/\n",
    "\n",
    "Es posible acceder a esta información desde Python utilizando los módulos `urllib` y `json`:"
   ]
  },
  {
   "cell_type": "code",
   "execution_count": 1,
   "metadata": {},
   "outputs": [
    {
     "name": "stdout",
     "output_type": "stream",
     "text": [
      "[{'fecha': '2020-03-13T23:59:59', 'total_casos': 23}, {'fecha': '2020-03-14T23:59:59', 'total_casos': 28}, {'fecha': '2020-03-15T23:59:59', 'total_casos': 37}, {'fecha': '2020-03-16T23:59:59', 'total_casos': 58}, {'fecha': '2020-03-17T23:59:59', 'total_casos': 111}, {'fecha': '2020-03-18T23:59:59', 'total_casos': 168}, {'fecha': '2020-03-19T23:59:59', 'total_casos': 260}, {'fecha': '2020-03-20T23:59:59', 'total_casos': 426}, {'fecha': '2020-03-21T23:59:59', 'total_casos': 532}, {'fecha': '2020-03-22T23:59:59', 'total_casos': 789}, {'fecha': '2020-03-23T23:59:59', 'total_casos': 981}, {'fecha': '2020-03-24T23:59:59', 'total_casos': 1049}, {'fecha': '2020-03-25T23:59:59', 'total_casos': 1211}, {'fecha': '2020-03-26T23:59:59', 'total_casos': 1403}, {'fecha': '2020-03-27T23:59:59', 'total_casos': 1627}, {'fecha': '2020-03-28T23:59:59', 'total_casos': 1835}, {'fecha': '2020-03-29T23:59:59', 'total_casos': 1889}, {'fecha': '2020-03-30T23:59:59', 'total_casos': 1965}, {'fecha': '2020-03-31T23:59:59', 'total_casos': 2301}, {'fecha': '2020-04-01T23:59:59', 'total_casos': 2757}, {'fecha': '2020-04-02T23:59:59', 'total_casos': 3162}, {'fecha': '2020-04-03T23:59:59', 'total_casos': 3367}, {'fecha': '2020-04-04T23:59:59', 'total_casos': 3464}, {'fecha': '2020-04-05T23:59:59', 'total_casos': 3645}, {'fecha': '2020-04-06T23:59:59', 'total_casos': 3746}, {'fecha': '2020-04-07T23:59:59', 'total_casos': 3994}, {'fecha': '2020-04-08T23:59:59', 'total_casos': 4449}, {'fecha': '2020-04-09T23:59:59', 'total_casos': 4963}, {'fecha': '2020-04-10T23:59:59', 'total_casos': 7159}, {'fecha': '2020-04-11T23:59:59', 'total_casos': 7255}, {'fecha': '2020-04-12T23:59:59', 'total_casos': 7464}, {'fecha': '2020-04-13T23:59:59', 'total_casos': 7527}, {'fecha': '2020-04-14T23:59:59', 'total_casos': 7601}, {'fecha': '2020-04-15T23:59:59', 'total_casos': 7855}, {'fecha': '2020-04-16T23:59:59', 'total_casos': 8222}, {'fecha': '2020-04-17T23:59:59', 'total_casos': 8447}, {'fecha': '2020-04-18T23:59:59', 'total_casos': 9019}, {'fecha': '2020-04-19T23:59:59', 'total_casos': 9465}, {'fecha': '2020-04-20T23:59:59', 'total_casos': 10125}, {'fecha': '2020-04-21T23:59:59', 'total_casos': 10395}, {'fecha': '2020-04-22T23:59:59', 'total_casos': 10847}, {'fecha': '2020-04-23T23:59:59', 'total_casos': 11179}, {'fecha': '2020-04-24T23:59:59', 'total_casos': 11179}, {'fecha': '2020-04-25T23:59:59', 'total_casos': 11179}, {'fecha': '2020-04-26T23:59:59', 'total_casos': 11179}, {'fecha': '2020-04-27T23:59:59', 'total_casos': 11179}, {'fecha': '2020-04-28T23:59:59', 'total_casos': 15724}, {'fecha': '2020-04-29T23:59:59', 'total_casos': 16141}, {'fecha': '2020-04-30T23:59:59', 'total_casos': 16400}, {'fecha': '2020-05-01T23:59:59', 'total_casos': 17802}, {'fecha': '2020-05-02T23:59:59', 'total_casos': 18859}, {'fecha': '2020-05-03T23:59:59', 'total_casos': 20932}, {'fecha': '2020-05-04T23:59:59', 'total_casos': 22974}, {'fecha': '2020-05-05T23:59:59', 'total_casos': 22974}, {'fecha': '2020-05-06T23:59:59', 'total_casos': 20476}, {'fecha': '2020-05-07T23:59:59', 'total_casos': 21354}, {'fecha': '2020-05-08T23:59:59', 'total_casos': 19874}, {'fecha': '2020-05-09T23:59:59', 'total_casos': 20126}, {'fecha': '2020-05-10T23:59:59', 'total_casos': 20614}, {'fecha': '2020-05-11T23:59:59', 'total_casos': 20614}, {'fecha': '2020-05-12T23:59:59', 'total_casos': 21473}, {'fecha': '2020-05-13T23:59:59', 'total_casos': 21541}, {'fecha': '2020-05-14T23:59:59', 'total_casos': 21557}, {'fecha': '2020-05-15T23:59:59', 'total_casos': 22324}, {'fecha': '2020-05-16T23:59:59', 'total_casos': 23777}, {'fecha': '2020-05-17T23:59:59', 'total_casos': 24236}, {'fecha': '2020-05-18T23:59:59', 'total_casos': 24617}, {'fecha': '2020-05-19T23:59:59', 'total_casos': 25195}, {'fecha': '2020-05-20T23:59:59', 'total_casos': 25195}, {'fecha': '2020-05-21T23:59:59', 'total_casos': 26350}, {'fecha': '2020-05-22T23:59:59', 'total_casos': 26872}, {'fecha': '2020-05-23T23:59:59', 'total_casos': 27302}, {'fecha': '2020-05-24T23:59:59', 'total_casos': 27800}, {'fecha': '2020-05-25T23:59:59', 'total_casos': 28399}, {'fecha': '2020-05-26T23:59:59', 'total_casos': 28700}, {'fecha': '2020-05-27T23:59:59', 'total_casos': 29147}, {'fecha': '2020-05-28T23:59:59', 'total_casos': 29515}, {'fecha': '2020-05-29T23:59:59', 'total_casos': 29615}, {'fecha': '2020-05-30T23:59:59', 'total_casos': 29615}, {'fecha': '2020-05-31T23:59:59', 'total_casos': 30142}, {'fecha': '2020-06-01T23:59:59', 'total_casos': 31038}, {'fecha': '2020-06-02T23:59:59', 'total_casos': 31458}, {'fecha': '2020-06-03T23:59:59', 'total_casos': 32010}, {'fecha': '2020-06-04T23:59:59', 'total_casos': 32010}, {'fecha': '2020-06-05T23:59:59', 'total_casos': 33150}, {'fecha': '2020-06-06T23:59:59', 'total_casos': 33772}, {'fecha': '2020-06-07T23:59:59', 'total_casos': 34164}, {'fecha': '2020-06-08T23:59:59', 'total_casos': 34422}, {'fecha': '2020-06-09T23:59:59', 'total_casos': 34961}, {'fecha': '2020-06-10T23:59:59', 'total_casos': 35484}, {'fecha': '2020-06-11T23:59:59', 'total_casos': 36126}, {'fecha': '2020-06-12T23:59:59', 'total_casos': 36822}, {'fecha': '2020-06-13T23:59:59', 'total_casos': 37400}, {'fecha': '2020-06-14T23:59:59', 'total_casos': 37795}, {'fecha': '2020-06-15T23:59:59', 'total_casos': 38366}, {'fecha': '2020-06-16T23:59:59', 'total_casos': 38987}, {'fecha': '2020-06-17T23:59:59', 'total_casos': 39534}, {'fecha': '2020-06-18T23:59:59', 'total_casos': 40141}, {'fecha': '2020-06-19T23:59:59', 'total_casos': 40775}, {'fecha': '2020-06-20T23:59:59', 'total_casos': 41227}, {'fecha': '2020-06-21T23:59:59', 'total_casos': 41684}, {'fecha': '2020-06-22T23:59:59', 'total_casos': 41959}, {'fecha': '2020-06-23T23:59:59', 'total_casos': 42687}, {'fecha': '2020-06-24T23:59:59', 'total_casos': 43378}, {'fecha': '2020-06-25T23:59:59', 'total_casos': 44200}, {'fecha': '2020-06-26T23:59:59', 'total_casos': 44900}, {'fecha': '2020-06-27T23:59:59', 'total_casos': 45618}, {'fecha': '2020-06-28T23:59:59', 'total_casos': 46299}, {'fecha': '2020-06-29T23:59:59', 'total_casos': 46709}, {'fecha': '2020-06-30T23:59:59', 'total_casos': 47386}, {'fecha': '2020-07-01T23:59:59', 'total_casos': 47386}, {'fecha': '2020-07-02T23:59:59', 'total_casos': 50530}, {'fecha': '2020-07-03T23:59:59', 'total_casos': 50530}, {'fecha': '2020-07-04T23:59:59', 'total_casos': 52579}, {'fecha': '2020-07-05T23:59:59', 'total_casos': 53002}, {'fecha': '2020-07-06T23:59:59', 'total_casos': 53424}, {'fecha': '2020-07-07T23:59:59', 'total_casos': 54289}, {'fecha': '2020-07-08T23:59:59', 'total_casos': 54289}, {'fecha': '2020-07-09T23:59:59', 'total_casos': 56062}, {'fecha': '2020-07-10T23:59:59', 'total_casos': 56845}, {'fecha': '2020-07-11T23:59:59', 'total_casos': 58253}, {'fecha': '2020-07-12T23:59:59', 'total_casos': 58914}, {'fecha': '2020-07-13T23:59:59', 'total_casos': 59503}, {'fecha': '2020-07-14T23:59:59', 'total_casos': 60614}, {'fecha': '2020-07-15T23:59:59', 'total_casos': 61373}, {'fecha': '2020-07-16T23:59:59', 'total_casos': 62409}, {'fecha': '2020-07-17T23:59:59', 'total_casos': 63488}, {'fecha': '2020-07-18T23:59:59', 'total_casos': 64426}, {'fecha': '2020-07-19T23:59:59', 'total_casos': 65057}, {'fecha': '2020-07-20T23:59:59', 'total_casos': 65664}, {'fecha': '2020-07-21T23:59:59', 'total_casos': 67261}, {'fecha': '2020-07-22T23:59:59', 'total_casos': 68301}, {'fecha': '2020-07-23T23:59:59', 'total_casos': 69192}, {'fecha': '2020-07-24T23:59:59', 'total_casos': 70093}, {'fecha': '2020-07-25T23:59:59', 'total_casos': 71080}, {'fecha': '2020-07-26T23:59:59', 'total_casos': 71738}, {'fecha': '2020-07-27T23:59:59', 'total_casos': 72205}, {'fecha': '2020-07-28T23:59:59', 'total_casos': 73323}, {'fecha': '2020-07-29T23:59:59', 'total_casos': 74237}, {'fecha': '2020-07-30T23:59:59', 'total_casos': 75414}, {'fecha': '2020-07-31T23:59:59', 'total_casos': 75414}, {'fecha': '2020-08-01T23:59:59', 'total_casos': 77276}, {'fecha': '2020-08-02T23:59:59', 'total_casos': 77276}, {'fecha': '2020-08-03T23:59:59', 'total_casos': 78085}, {'fecha': '2020-08-04T23:59:59', 'total_casos': 79007}, {'fecha': '2020-08-05T23:59:59', 'total_casos': 79910}, {'fecha': '2020-08-06T23:59:59', 'total_casos': 81581}, {'fecha': '2020-08-07T23:59:59', 'total_casos': 83013}, {'fecha': '2020-08-08T23:59:59', 'total_casos': 84616}, {'fecha': '2020-08-09T23:59:59', 'total_casos': 85503}, {'fecha': '2020-08-10T23:59:59', 'total_casos': 85745}, {'fecha': '2020-08-11T23:59:59', 'total_casos': 86607}, {'fecha': '2020-08-12T23:59:59', 'total_casos': 88154}, {'fecha': '2020-08-13T23:59:59', 'total_casos': 89387}, {'fecha': '2020-08-14T23:59:59', 'total_casos': 90453}, {'fecha': '2020-08-15T23:59:59', 'total_casos': 90453}, {'fecha': '2020-08-16T23:59:59', 'total_casos': 92586}, {'fecha': '2020-08-17T23:59:59', 'total_casos': 92795}, {'fecha': '2020-08-18T23:59:59', 'total_casos': 93985}, {'fecha': '2020-08-19T23:59:59', 'total_casos': 95519}, {'fecha': '2020-08-20T23:59:59', 'total_casos': 96552}, {'fecha': '2020-08-21T23:59:59', 'total_casos': 97525}, {'fecha': '2020-08-22T23:59:59', 'total_casos': 98133}, {'fecha': '2020-08-23T23:59:59', 'total_casos': 98813}, {'fecha': '2020-08-24T23:59:59', 'total_casos': 99333}, {'fecha': '2020-08-25T23:59:59', 'total_casos': 100074}, {'fecha': '2020-08-26T23:59:59', 'total_casos': 101593}, {'fecha': '2020-08-27T23:59:59', 'total_casos': 102263}, {'fecha': '2020-08-28T23:59:59', 'total_casos': 103185}, {'fecha': '2020-08-29T23:59:59', 'total_casos': 103950}, {'fecha': '2020-08-30T23:59:59', 'total_casos': 104692}, {'fecha': '2020-08-31T23:59:59', 'total_casos': 104811}, {'fecha': '2020-09-01T23:59:59', 'total_casos': 105353}, {'fecha': '2020-09-02T23:59:59', 'total_casos': 106501}, {'fecha': '2020-09-03T23:59:59', 'total_casos': 107404}, {'fecha': '2020-09-04T23:59:59', 'total_casos': 108219}, {'fecha': '2020-09-05T23:59:59', 'total_casos': 109089}, {'fecha': '2020-09-06T23:59:59', 'total_casos': 109784}, {'fecha': '2020-09-07T23:59:59', 'total_casos': 110092}, {'fecha': '2020-09-08T23:59:59', 'total_casos': 110757}, {'fecha': '2020-09-09T23:59:59', 'total_casos': 112166}, {'fecha': '2020-09-10T23:59:59', 'total_casos': 113206}, {'fecha': '2020-09-11T23:59:59', 'total_casos': 114732}, {'fecha': '2020-09-12T23:59:59', 'total_casos': 116451}, {'fecha': '2020-09-13T23:59:59', 'total_casos': 118594}, {'fecha': '2020-09-14T23:59:59', 'total_casos': 118911}, {'fecha': '2020-09-15T23:59:59', 'total_casos': 119553}, {'fecha': '2020-09-16T23:59:59', 'total_casos': 121525}, {'fecha': '2020-09-17T23:59:59', 'total_casos': 122254}, {'fecha': '2020-09-18T23:59:59', 'total_casos': 122254}, {'fecha': '2020-09-19T23:59:59', 'total_casos': 125617}, {'fecha': '2020-09-20T23:59:59', 'total_casos': 126416}, {'fecha': '2020-09-21T23:59:59', 'total_casos': 126708}, {'fecha': '2020-09-22T23:59:59', 'total_casos': 127643}, {'fecha': '2020-09-23T23:59:59', 'total_casos': 129892}, {'fecha': '2020-09-24T23:59:59', 'total_casos': 131146}, {'fecha': '2020-09-25T23:59:59', 'total_casos': 132475}, {'fecha': '2020-09-26T23:59:59', 'total_casos': 132475}, {'fecha': '2020-09-27T23:59:59', 'total_casos': 132475}, {'fecha': '2020-09-28T23:59:59', 'total_casos': 134965}, {'fecha': '2020-09-29T23:59:59', 'total_casos': 134965}, {'fecha': '2020-09-30T23:59:59', 'total_casos': 137047}, {'fecha': '2020-10-01T23:59:59', 'total_casos': 137047}, {'fecha': '2020-10-02T23:59:59', 'total_casos': 139534}, {'fecha': '2020-10-03T23:59:59', 'total_casos': 139534}, {'fecha': '2020-10-04T23:59:59', 'total_casos': 139534}, {'fecha': '2020-10-05T23:59:59', 'total_casos': 139534}, {'fecha': '2020-10-06T23:59:59', 'total_casos': 139534}, {'fecha': '2020-10-07T23:59:59', 'total_casos': 143531}, {'fecha': '2020-10-08T23:59:59', 'total_casos': 143531}, {'fecha': '2020-10-09T23:59:59', 'total_casos': 145848}, {'fecha': '2020-10-10T23:59:59', 'total_casos': 145848}, {'fecha': '2020-10-11T23:59:59', 'total_casos': 145848}, {'fecha': '2020-10-12T23:59:59', 'total_casos': 147315}, {'fecha': '2020-10-13T23:59:59', 'total_casos': 147315}, {'fecha': '2020-10-14T23:59:59', 'total_casos': 149083}, {'fecha': '2020-10-15T23:59:59', 'total_casos': 149083}, {'fecha': '2020-10-16T23:59:59', 'total_casos': 151659}, {'fecha': '2020-10-17T23:59:59', 'total_casos': 151659}, {'fecha': '2020-10-18T23:59:59', 'total_casos': 151659}, {'fecha': '2020-10-19T23:59:59', 'total_casos': 153423}, {'fecha': '2020-10-20T23:59:59', 'total_casos': 153423}, {'fecha': '2020-10-21T23:59:59', 'total_casos': 155625}, {'fecha': '2020-10-22T23:59:59', 'total_casos': 155625}, {'fecha': '2020-10-23T23:59:59', 'total_casos': 158270}, {'fecha': '2020-10-24T23:59:59', 'total_casos': 158270}, {'fecha': '2020-10-25T23:59:59', 'total_casos': 158270}, {'fecha': '2020-10-26T23:59:59', 'total_casos': 162178}, {'fecha': '2020-10-27T23:59:59', 'total_casos': 162178}, {'fecha': '2020-10-28T23:59:59', 'total_casos': 164908}, {'fecha': '2020-10-29T23:59:59', 'total_casos': 164908}, {'fecha': '2020-10-30T23:59:59', 'total_casos': 167147}, {'fecha': '2020-10-31T23:59:59', 'total_casos': 167147}, {'fecha': '2020-11-01T23:59:59', 'total_casos': 167147}, {'fecha': '2020-11-02T23:59:59', 'total_casos': 169562}, {'fecha': '2020-11-03T23:59:59', 'total_casos': 169562}, {'fecha': '2020-11-04T23:59:59', 'total_casos': 171433}, {'fecha': '2020-11-05T23:59:59', 'total_casos': 171433}, {'fecha': '2020-11-06T23:59:59', 'total_casos': 171433}, {'fecha': '2020-11-07T23:59:59', 'total_casos': 171433}, {'fecha': '2020-11-08T23:59:59', 'total_casos': 174907}, {'fecha': '2020-11-09T23:59:59', 'total_casos': 175269}, {'fecha': '2020-11-10T23:59:59', 'total_casos': 175711}, {'fecha': '2020-11-11T23:59:59', 'total_casos': 176630}, {'fecha': '2020-11-12T23:59:59', 'total_casos': 177513}, {'fecha': '2020-11-13T23:59:59', 'total_casos': 178674}, {'fecha': '2020-11-14T23:59:59', 'total_casos': 179627}, {'fecha': '2020-11-15T23:59:59', 'total_casos': 180295}, {'fecha': '2020-11-16T23:59:59', 'total_casos': 180676}, {'fecha': '2020-11-17T23:59:59', 'total_casos': 181104}, {'fecha': '2020-11-18T23:59:59', 'total_casos': 182250}, {'fecha': '2020-11-19T23:59:59', 'total_casos': 183246}, {'fecha': '2020-11-20T23:59:59', 'total_casos': 183840}, {'fecha': '2020-11-21T23:59:59', 'total_casos': 184876}, {'fecha': '2020-11-22T23:59:59', 'total_casos': 185643}, {'fecha': '2020-11-23T23:59:59', 'total_casos': 185944}, {'fecha': '2020-11-24T23:59:59', 'total_casos': 186436}, {'fecha': '2020-11-25T23:59:59', 'total_casos': 187230}, {'fecha': '2020-11-26T23:59:59', 'total_casos': 188138}, {'fecha': '2020-11-27T23:59:59', 'total_casos': 189534}, {'fecha': '2020-11-28T23:59:59', 'total_casos': 190909}, {'fecha': '2020-11-29T23:59:59', 'total_casos': 192117}, {'fecha': '2020-11-30T23:59:59', 'total_casos': 192685}, {'fecha': '2020-12-01T23:59:59', 'total_casos': 193673}, {'fecha': '2020-12-02T23:59:59', 'total_casos': 194876}, {'fecha': '2020-12-03T23:59:59', 'total_casos': 195884}, {'fecha': '2020-12-04T23:59:59', 'total_casos': 196482}, {'fecha': '2020-12-05T23:59:59', 'total_casos': 197391}, {'fecha': '2020-12-06T23:59:59', 'total_casos': 197998}, {'fecha': '2020-12-07T23:59:59', 'total_casos': 198244}, {'fecha': '2020-12-08T23:59:59', 'total_casos': 198752}, {'fecha': '2020-12-09T23:59:59', 'total_casos': 199228}, {'fecha': '2020-12-10T23:59:59', 'total_casos': 200379}, {'fecha': '2020-12-11T23:59:59', 'total_casos': 200765}, {'fecha': '2020-12-12T23:59:59', 'total_casos': 201524}, {'fecha': '2020-12-13T23:59:59', 'total_casos': 202110}, {'fecha': '2020-12-14T23:59:59', 'total_casos': 202180}, {'fecha': '2020-12-15T23:59:59', 'total_casos': 202356}, {'fecha': '2020-12-16T23:59:59', 'total_casos': 203461}, {'fecha': '2020-12-17T23:59:59', 'total_casos': 204248}, {'fecha': '2020-12-18T23:59:59', 'total_casos': 205003}, {'fecha': '2020-12-19T23:59:59', 'total_casos': 205920}, {'fecha': '2020-12-20T23:59:59', 'total_casos': 206257}, {'fecha': '2020-12-21T23:59:59', 'total_casos': 206329}, {'fecha': '2020-12-22T23:59:59', 'total_casos': 206364}, {'fecha': '2020-12-23T23:59:59', 'total_casos': 207084}, {'fecha': '2020-12-24T23:59:59', 'total_casos': 208010}, {'fecha': '2020-12-25T23:59:59', 'total_casos': 208828}, {'fecha': '2020-12-26T23:59:59', 'total_casos': 209274}, {'fecha': '2020-12-27T23:59:59', 'total_casos': 209355}, {'fecha': '2020-12-28T23:59:59', 'total_casos': 209758}, {'fecha': '2020-12-29T23:59:59', 'total_casos': 210326}, {'fecha': '2020-12-30T23:59:59', 'total_casos': 211512}, {'fecha': '2020-12-31T23:59:59', 'total_casos': 212512}, {'fecha': '2021-01-01T23:59:59', 'total_casos': 213378}, {'fecha': '2021-01-02T23:59:59', 'total_casos': 214513}, {'fecha': '2021-01-03T23:59:59', 'total_casos': 214614}, {'fecha': '2021-01-04T23:59:59', 'total_casos': 215080}, {'fecha': '2021-01-05T23:59:59', 'total_casos': 216083}, {'fecha': '2021-01-06T23:59:59', 'total_casos': 217377}, {'fecha': '2021-01-07T23:59:59', 'total_casos': 218385}, {'fecha': '2021-01-08T23:59:59', 'total_casos': 219148}, {'fecha': '2021-01-09T23:59:59', 'total_casos': 220349}, {'fecha': '2021-01-10T23:59:59', 'total_casos': 221070}, {'fecha': '2021-01-11T23:59:59', 'total_casos': 221506}, {'fecha': '2021-01-12T23:59:59', 'total_casos': 222567}, {'fecha': '2021-01-13T23:59:59', 'total_casos': 224315}, {'fecha': '2021-01-14T23:59:59', 'total_casos': 226002}, {'fecha': '2021-01-15T23:59:59', 'total_casos': 226866}, {'fecha': '2021-01-16T23:59:59', 'total_casos': 230808}, {'fecha': '2021-01-17T23:59:59', 'total_casos': 231482}, {'fecha': '2021-01-18T23:59:59', 'total_casos': 231644}, {'fecha': '2021-01-19T23:59:59', 'total_casos': 232568}, {'fecha': '2021-01-20T23:59:59', 'total_casos': 234315}, {'fecha': '2021-01-21T23:59:59', 'total_casos': 236189}, {'fecha': '2021-01-22T23:59:59', 'total_casos': 237158}, {'fecha': '2021-01-23T23:59:59', 'total_casos': 238232}, {'fecha': '2021-01-24T23:59:59', 'total_casos': 241292}, {'fecha': '2021-01-25T23:59:59', 'total_casos': 241567}, {'fecha': '2021-01-26T23:59:59', 'total_casos': 242146}, {'fecha': '2021-01-27T23:59:59', 'total_casos': 243535}, {'fecha': '2021-01-28T23:59:59', 'total_casos': 246000}, {'fecha': '2021-01-29T23:59:59', 'total_casos': 246687}, {'fecha': '2021-01-30T23:59:59', 'total_casos': 249779}, {'fecha': '2021-01-31T23:59:59', 'total_casos': 250828}, {'fecha': '2021-02-01T23:59:59', 'total_casos': 250986}, {'fecha': '2021-02-02T23:59:59', 'total_casos': 251279}, {'fecha': '2021-02-03T23:59:59', 'total_casos': 252390}, {'fecha': '2021-02-04T23:59:59', 'total_casos': 253339}, {'fecha': '2021-02-05T23:59:59', 'total_casos': 255412}, {'fecha': '2021-02-06T23:59:59', 'total_casos': 257115}, {'fecha': '2021-02-07T23:59:59', 'total_casos': 258278}, {'fecha': '2021-02-08T23:59:59', 'total_casos': 258607}, {'fecha': '2021-02-09T23:59:59', 'total_casos': 259783}, {'fecha': '2021-02-10T23:59:59', 'total_casos': 260076}, {'fecha': '2021-02-11T23:59:59', 'total_casos': 262213}, {'fecha': '2021-02-12T23:59:59', 'total_casos': 263517}, {'fecha': '2021-02-13T23:59:59', 'total_casos': 265527}, {'fecha': '2021-02-14T23:59:59', 'total_casos': 267223}, {'fecha': '2021-02-15T23:59:59', 'total_casos': 267701}, {'fecha': '2021-02-16T23:59:59', 'total_casos': 268073}, {'fecha': '2021-02-17T23:59:59', 'total_casos': 268219}, {'fecha': '2021-02-18T23:59:59', 'total_casos': 269860}, {'fecha': '2021-02-19T23:59:59', 'total_casos': 271276}, {'fecha': '2021-02-20T23:59:59', 'total_casos': 273097}, {'fecha': '2021-02-21T23:59:59', 'total_casos': 274673}, {'fecha': '2021-02-22T23:59:59', 'total_casos': 274968}, {'fecha': '2021-02-23T23:59:59', 'total_casos': 275780}, {'fecha': '2021-02-24T23:59:59', 'total_casos': 278779}, {'fecha': '2021-02-25T23:59:59', 'total_casos': 281169}, {'fecha': '2021-02-26T23:59:59', 'total_casos': 282599}, {'fecha': '2021-02-27T23:59:59', 'total_casos': 284347}, {'fecha': '2021-02-28T23:59:59', 'total_casos': 286155}, {'fecha': '2021-03-01T23:59:59', 'total_casos': 286367}, {'fecha': '2021-03-02T23:59:59', 'total_casos': 286725}, {'fecha': '2021-03-03T23:59:59', 'total_casos': 289472}, {'fecha': '2021-03-04T23:59:59', 'total_casos': 289735}, {'fecha': '2021-03-05T23:59:59', 'total_casos': 291070}, {'fecha': '2021-03-06T23:59:59', 'total_casos': 292943}, {'fecha': '2021-03-07T23:59:59', 'total_casos': 294503}, {'fecha': '2021-03-08T23:59:59', 'total_casos': 294618}, {'fecha': '2021-03-09T23:59:59', 'total_casos': 295114}, {'fecha': '2021-03-10T23:59:59', 'total_casos': 296841}, {'fecha': '2021-03-11T23:59:59', 'total_casos': 297957}, {'fecha': '2021-03-12T23:59:59', 'total_casos': 299216}, {'fecha': '2021-03-13T23:59:59', 'total_casos': 300666}, {'fecha': '2021-03-14T08:00:00', 'total_casos': 302498}]\n"
     ]
    }
   ],
   "source": [
    "import urllib.request, json\n",
    "url = \"https://covidmodemat.epn.edu.ec/api/evolucion/\"\n",
    "response = urllib.request.urlopen(url)\n",
    "datos = json.loads(response.read())\n",
    "print(datos)"
   ]
  },
  {
   "cell_type": "markdown",
   "metadata": {},
   "source": [
    "La función `urllib.request.urlopen` permite consultar (*consumir*) un punto de acceso especificando su dirección (URL) y devuelve un objeto de la clase `HTTPResponse` que contiene la información solicitada, en este caso en formato JSON. La función `json.loads` permite recuperar esta información en una lista de diccionarios que en este ejemplo es asignada a la variable `datos`.\n",
    "\n",
    "Podemos usar el constructor `pd.DataFrame` para poner la información de la variable `datos` en un DataFrame:"
   ]
  },
  {
   "cell_type": "code",
   "execution_count": 4,
   "metadata": {},
   "outputs": [
    {
     "data": {
      "text/html": [
       "<div>\n",
       "<style scoped>\n",
       "    .dataframe tbody tr th:only-of-type {\n",
       "        vertical-align: middle;\n",
       "    }\n",
       "\n",
       "    .dataframe tbody tr th {\n",
       "        vertical-align: top;\n",
       "    }\n",
       "\n",
       "    .dataframe thead th {\n",
       "        text-align: right;\n",
       "    }\n",
       "</style>\n",
       "<table border=\"1\" class=\"dataframe\">\n",
       "  <thead>\n",
       "    <tr style=\"text-align: right;\">\n",
       "      <th></th>\n",
       "      <th>fecha</th>\n",
       "      <th>total_casos</th>\n",
       "    </tr>\n",
       "  </thead>\n",
       "  <tbody>\n",
       "    <tr>\n",
       "      <th>0</th>\n",
       "      <td>2020-03-13T23:59:59</td>\n",
       "      <td>23</td>\n",
       "    </tr>\n",
       "    <tr>\n",
       "      <th>1</th>\n",
       "      <td>2020-03-14T23:59:59</td>\n",
       "      <td>28</td>\n",
       "    </tr>\n",
       "    <tr>\n",
       "      <th>2</th>\n",
       "      <td>2020-03-15T23:59:59</td>\n",
       "      <td>37</td>\n",
       "    </tr>\n",
       "    <tr>\n",
       "      <th>3</th>\n",
       "      <td>2020-03-16T23:59:59</td>\n",
       "      <td>58</td>\n",
       "    </tr>\n",
       "    <tr>\n",
       "      <th>4</th>\n",
       "      <td>2020-03-17T23:59:59</td>\n",
       "      <td>111</td>\n",
       "    </tr>\n",
       "    <tr>\n",
       "      <th>...</th>\n",
       "      <td>...</td>\n",
       "      <td>...</td>\n",
       "    </tr>\n",
       "    <tr>\n",
       "      <th>362</th>\n",
       "      <td>2021-03-10T23:59:59</td>\n",
       "      <td>296841</td>\n",
       "    </tr>\n",
       "    <tr>\n",
       "      <th>363</th>\n",
       "      <td>2021-03-11T23:59:59</td>\n",
       "      <td>297957</td>\n",
       "    </tr>\n",
       "    <tr>\n",
       "      <th>364</th>\n",
       "      <td>2021-03-12T23:59:59</td>\n",
       "      <td>299216</td>\n",
       "    </tr>\n",
       "    <tr>\n",
       "      <th>365</th>\n",
       "      <td>2021-03-13T23:59:59</td>\n",
       "      <td>300666</td>\n",
       "    </tr>\n",
       "    <tr>\n",
       "      <th>366</th>\n",
       "      <td>2021-03-14T08:00:00</td>\n",
       "      <td>302498</td>\n",
       "    </tr>\n",
       "  </tbody>\n",
       "</table>\n",
       "<p>367 rows × 2 columns</p>\n",
       "</div>"
      ],
      "text/plain": [
       "                   fecha  total_casos\n",
       "0    2020-03-13T23:59:59           23\n",
       "1    2020-03-14T23:59:59           28\n",
       "2    2020-03-15T23:59:59           37\n",
       "3    2020-03-16T23:59:59           58\n",
       "4    2020-03-17T23:59:59          111\n",
       "..                   ...          ...\n",
       "362  2021-03-10T23:59:59       296841\n",
       "363  2021-03-11T23:59:59       297957\n",
       "364  2021-03-12T23:59:59       299216\n",
       "365  2021-03-13T23:59:59       300666\n",
       "366  2021-03-14T08:00:00       302498\n",
       "\n",
       "[367 rows x 2 columns]"
      ]
     },
     "metadata": {},
     "output_type": "display_data"
    }
   ],
   "source": [
    "dfevolucion= pd.DataFrame(datos)\n",
    "display(dfevolucion)"
   ]
  },
  {
   "cell_type": "markdown",
   "metadata": {},
   "source": [
    "Una vez en el formato de DataFrame, la información puede procesarse/analizarse usando la funcionalidad disponible en `pandas`. Por ejemplo, podemos transformar el DataFrame en una serie que tiene el número de casos indexado por la fecha:"
   ]
  },
  {
   "cell_type": "code",
   "execution_count": 5,
   "metadata": {},
   "outputs": [
    {
     "name": "stdout",
     "output_type": "stream",
     "text": [
      "                     total_casos\n",
      "fecha                           \n",
      "2020-03-13 23:59:59           23\n",
      "2020-03-14 23:59:59           28\n",
      "2020-03-15 23:59:59           37\n",
      "2020-03-16 23:59:59           58\n",
      "2020-03-17 23:59:59          111\n",
      "...                          ...\n",
      "2021-03-10 23:59:59       296841\n",
      "2021-03-11 23:59:59       297957\n",
      "2021-03-12 23:59:59       299216\n",
      "2021-03-13 23:59:59       300666\n",
      "2021-03-14 08:00:00       302498\n",
      "\n",
      "[367 rows x 1 columns]\n"
     ]
    }
   ],
   "source": [
    "dfevolucion['fecha']= pd.to_datetime(dfevolucion['fecha'])\n",
    "dfevolucion.set_index('fecha', inplace= True)\n",
    "print(dfevolucion)"
   ]
  },
  {
   "cell_type": "markdown",
   "metadata": {},
   "source": [
    "Usando el método `resample` podemos filtrar los datos del día final de cada mes:"
   ]
  },
  {
   "cell_type": "code",
   "execution_count": 6,
   "metadata": {},
   "outputs": [
    {
     "name": "stdout",
     "output_type": "stream",
     "text": [
      "            total_casos\n",
      "fecha                  \n",
      "2020-03-31         2301\n",
      "2020-04-30        16400\n",
      "2020-05-31        30142\n",
      "2020-06-30        47386\n",
      "2020-07-31        75414\n",
      "2020-08-31       104811\n",
      "2020-09-30       137047\n",
      "2020-10-31       167147\n",
      "2020-11-30       192685\n",
      "2020-12-31       212512\n",
      "2021-01-31       250828\n",
      "2021-02-28       286155\n",
      "2021-03-31       302498\n"
     ]
    }
   ],
   "source": [
    "dfevolucion2 = dfevolucion.resample('M').max()\n",
    "print(dfevolucion2)"
   ]
  },
  {
   "cell_type": "markdown",
   "metadata": {},
   "source": [
    "## Graficando con `matplotlib`\n",
    "\n",
    "El método `plot` de una serie permite representarla gráficamente. Pandas utiliza para ello la funcionalidad de la biblioteca `matplotlib`:"
   ]
  },
  {
   "cell_type": "code",
   "execution_count": 7,
   "metadata": {},
   "outputs": [
    {
     "data": {
      "image/png": "[encoded data removed]",
      "text/plain": [
       "<Figure size 432x288 with 1 Axes>"
      ]
     },
     "metadata": {
      "needs_background": "light"
     },
     "output_type": "display_data"
    }
   ],
   "source": [
    "import matplotlib.pyplot as plt\n",
    "dfevolucion.plot()\n",
    "plt.ylabel('Número de casos');"
   ]
  },
  {
   "cell_type": "markdown",
   "metadata": {},
   "source": [
    "La biblioteca configura automáticamente algunas opciones. Por ejemplo, observar cómo cambian los rótulos en el eje horizontal al graficar `dfevolucion2` que contiene datos con frecuencia mensual:"
   ]
  },
  {
   "cell_type": "code",
   "execution_count": 8,
   "metadata": {},
   "outputs": [
    {
     "data": {
      "image/png": "[encoded data removed]",
      "text/plain": [
       "<Figure size 432x288 with 1 Axes>"
      ]
     },
     "metadata": {
      "needs_background": "light"
     },
     "output_type": "display_data"
    }
   ],
   "source": [
    "dfevolucion2.plot()\n",
    "plt.ylabel('Número de casos');"
   ]
  },
  {
   "cell_type": "markdown",
   "metadata": {},
   "source": [
    "Supongamos que en lugar del número total queremos estudiar el número diario de casos. Para ello, podemos emplear el método `shift`, el cual permite desplazar los datos en una serie indexada por fechas-horas:"
   ]
  },
  {
   "cell_type": "code",
   "execution_count": 9,
   "metadata": {},
   "outputs": [
    {
     "name": "stdout",
     "output_type": "stream",
     "text": [
      "fecha\n",
      "2020-03-13 23:59:59         NaN\n",
      "2020-03-14 23:59:59        23.0\n",
      "2020-03-15 23:59:59        28.0\n",
      "2020-03-16 23:59:59        37.0\n",
      "2020-03-17 23:59:59        58.0\n",
      "                         ...   \n",
      "2021-03-10 23:59:59    295114.0\n",
      "2021-03-11 23:59:59    296841.0\n",
      "2021-03-12 23:59:59    297957.0\n",
      "2021-03-13 23:59:59    299216.0\n",
      "2021-03-14 08:00:00    300666.0\n",
      "Name: total_casos, Length: 367, dtype: float64\n"
     ]
    }
   ],
   "source": [
    "print(dfevolucion['total_casos'].shift(1))"
   ]
  },
  {
   "cell_type": "markdown",
   "metadata": {},
   "source": [
    "Con esto, podemos agregar una columna `diarios` al DataFrame, que registre los casos diarios al restar la variación del total acumulado en dos días consecutivos:"
   ]
  },
  {
   "cell_type": "code",
   "execution_count": 10,
   "metadata": {},
   "outputs": [
    {
     "data": {
      "text/html": [
       "<div>\n",
       "<style scoped>\n",
       "    .dataframe tbody tr th:only-of-type {\n",
       "        vertical-align: middle;\n",
       "    }\n",
       "\n",
       "    .dataframe tbody tr th {\n",
       "        vertical-align: top;\n",
       "    }\n",
       "\n",
       "    .dataframe thead th {\n",
       "        text-align: right;\n",
       "    }\n",
       "</style>\n",
       "<table border=\"1\" class=\"dataframe\">\n",
       "  <thead>\n",
       "    <tr style=\"text-align: right;\">\n",
       "      <th></th>\n",
       "      <th>total_casos</th>\n",
       "      <th>diarios</th>\n",
       "    </tr>\n",
       "    <tr>\n",
       "      <th>fecha</th>\n",
       "      <th></th>\n",
       "      <th></th>\n",
       "    </tr>\n",
       "  </thead>\n",
       "  <tbody>\n",
       "    <tr>\n",
       "      <th>2020-03-13 23:59:59</th>\n",
       "      <td>23</td>\n",
       "      <td>NaN</td>\n",
       "    </tr>\n",
       "    <tr>\n",
       "      <th>2020-03-14 23:59:59</th>\n",
       "      <td>28</td>\n",
       "      <td>5.0</td>\n",
       "    </tr>\n",
       "    <tr>\n",
       "      <th>2020-03-15 23:59:59</th>\n",
       "      <td>37</td>\n",
       "      <td>9.0</td>\n",
       "    </tr>\n",
       "    <tr>\n",
       "      <th>2020-03-16 23:59:59</th>\n",
       "      <td>58</td>\n",
       "      <td>21.0</td>\n",
       "    </tr>\n",
       "    <tr>\n",
       "      <th>2020-03-17 23:59:59</th>\n",
       "      <td>111</td>\n",
       "      <td>53.0</td>\n",
       "    </tr>\n",
       "    <tr>\n",
       "      <th>...</th>\n",
       "      <td>...</td>\n",
       "      <td>...</td>\n",
       "    </tr>\n",
       "    <tr>\n",
       "      <th>2021-03-10 23:59:59</th>\n",
       "      <td>296841</td>\n",
       "      <td>1727.0</td>\n",
       "    </tr>\n",
       "    <tr>\n",
       "      <th>2021-03-11 23:59:59</th>\n",
       "      <td>297957</td>\n",
       "      <td>1116.0</td>\n",
       "    </tr>\n",
       "    <tr>\n",
       "      <th>2021-03-12 23:59:59</th>\n",
       "      <td>299216</td>\n",
       "      <td>1259.0</td>\n",
       "    </tr>\n",
       "    <tr>\n",
       "      <th>2021-03-13 23:59:59</th>\n",
       "      <td>300666</td>\n",
       "      <td>1450.0</td>\n",
       "    </tr>\n",
       "    <tr>\n",
       "      <th>2021-03-14 08:00:00</th>\n",
       "      <td>302498</td>\n",
       "      <td>1832.0</td>\n",
       "    </tr>\n",
       "  </tbody>\n",
       "</table>\n",
       "<p>367 rows × 2 columns</p>\n",
       "</div>"
      ],
      "text/plain": [
       "                     total_casos  diarios\n",
       "fecha                                    \n",
       "2020-03-13 23:59:59           23      NaN\n",
       "2020-03-14 23:59:59           28      5.0\n",
       "2020-03-15 23:59:59           37      9.0\n",
       "2020-03-16 23:59:59           58     21.0\n",
       "2020-03-17 23:59:59          111     53.0\n",
       "...                          ...      ...\n",
       "2021-03-10 23:59:59       296841   1727.0\n",
       "2021-03-11 23:59:59       297957   1116.0\n",
       "2021-03-12 23:59:59       299216   1259.0\n",
       "2021-03-13 23:59:59       300666   1450.0\n",
       "2021-03-14 08:00:00       302498   1832.0\n",
       "\n",
       "[367 rows x 2 columns]"
      ]
     },
     "metadata": {},
     "output_type": "display_data"
    }
   ],
   "source": [
    "dfevolucion['diarios']= dfevolucion['total_casos'] - dfevolucion['total_casos'].shift(1)\n",
    "display(dfevolucion)"
   ]
  },
  {
   "cell_type": "markdown",
   "metadata": {},
   "source": [
    "Podemos ahora graficar el número diario de casos:"
   ]
  },
  {
   "cell_type": "code",
   "execution_count": 11,
   "metadata": {},
   "outputs": [
    {
     "data": {
      "image/png": "[encoded data removed]",
      "text/plain": [
       "<Figure size 432x288 with 1 Axes>"
      ]
     },
     "metadata": {
      "needs_background": "light"
     },
     "output_type": "display_data"
    }
   ],
   "source": [
    "dfevolucion['diarios'].plot()\n",
    "plt.ylabel('Número de casos');"
   ]
  },
  {
   "cell_type": "markdown",
   "metadata": {},
   "source": [
    "Observamos que los datos tienen un comportamiento muy irregular. Para suavizar la curva, podemos calcular la media móvil de los últimos siete días. Empleamos para ello el método `rolling`:"
   ]
  },
  {
   "cell_type": "code",
   "execution_count": 12,
   "metadata": {},
   "outputs": [
    {
     "data": {
      "text/html": [
       "<div>\n",
       "<style scoped>\n",
       "    .dataframe tbody tr th:only-of-type {\n",
       "        vertical-align: middle;\n",
       "    }\n",
       "\n",
       "    .dataframe tbody tr th {\n",
       "        vertical-align: top;\n",
       "    }\n",
       "\n",
       "    .dataframe thead th {\n",
       "        text-align: right;\n",
       "    }\n",
       "</style>\n",
       "<table border=\"1\" class=\"dataframe\">\n",
       "  <thead>\n",
       "    <tr style=\"text-align: right;\">\n",
       "      <th></th>\n",
       "      <th>total_casos</th>\n",
       "      <th>diarios</th>\n",
       "      <th>diarios_suavizado</th>\n",
       "    </tr>\n",
       "    <tr>\n",
       "      <th>fecha</th>\n",
       "      <th></th>\n",
       "      <th></th>\n",
       "      <th></th>\n",
       "    </tr>\n",
       "  </thead>\n",
       "  <tbody>\n",
       "    <tr>\n",
       "      <th>2020-03-13 23:59:59</th>\n",
       "      <td>23</td>\n",
       "      <td>NaN</td>\n",
       "      <td>NaN</td>\n",
       "    </tr>\n",
       "    <tr>\n",
       "      <th>2020-03-14 23:59:59</th>\n",
       "      <td>28</td>\n",
       "      <td>5.0</td>\n",
       "      <td>NaN</td>\n",
       "    </tr>\n",
       "    <tr>\n",
       "      <th>2020-03-15 23:59:59</th>\n",
       "      <td>37</td>\n",
       "      <td>9.0</td>\n",
       "      <td>NaN</td>\n",
       "    </tr>\n",
       "    <tr>\n",
       "      <th>2020-03-16 23:59:59</th>\n",
       "      <td>58</td>\n",
       "      <td>21.0</td>\n",
       "      <td>NaN</td>\n",
       "    </tr>\n",
       "    <tr>\n",
       "      <th>2020-03-17 23:59:59</th>\n",
       "      <td>111</td>\n",
       "      <td>53.0</td>\n",
       "      <td>NaN</td>\n",
       "    </tr>\n",
       "    <tr>\n",
       "      <th>2020-03-18 23:59:59</th>\n",
       "      <td>168</td>\n",
       "      <td>57.0</td>\n",
       "      <td>NaN</td>\n",
       "    </tr>\n",
       "    <tr>\n",
       "      <th>2020-03-19 23:59:59</th>\n",
       "      <td>260</td>\n",
       "      <td>92.0</td>\n",
       "      <td>NaN</td>\n",
       "    </tr>\n",
       "    <tr>\n",
       "      <th>2020-03-20 23:59:59</th>\n",
       "      <td>426</td>\n",
       "      <td>166.0</td>\n",
       "      <td>57.571429</td>\n",
       "    </tr>\n",
       "    <tr>\n",
       "      <th>2020-03-21 23:59:59</th>\n",
       "      <td>532</td>\n",
       "      <td>106.0</td>\n",
       "      <td>72.000000</td>\n",
       "    </tr>\n",
       "    <tr>\n",
       "      <th>2020-03-22 23:59:59</th>\n",
       "      <td>789</td>\n",
       "      <td>257.0</td>\n",
       "      <td>107.428571</td>\n",
       "    </tr>\n",
       "    <tr>\n",
       "      <th>2020-03-23 23:59:59</th>\n",
       "      <td>981</td>\n",
       "      <td>192.0</td>\n",
       "      <td>131.857143</td>\n",
       "    </tr>\n",
       "    <tr>\n",
       "      <th>2020-03-24 23:59:59</th>\n",
       "      <td>1049</td>\n",
       "      <td>68.0</td>\n",
       "      <td>134.000000</td>\n",
       "    </tr>\n",
       "    <tr>\n",
       "      <th>2020-03-25 23:59:59</th>\n",
       "      <td>1211</td>\n",
       "      <td>162.0</td>\n",
       "      <td>149.000000</td>\n",
       "    </tr>\n",
       "    <tr>\n",
       "      <th>2020-03-26 23:59:59</th>\n",
       "      <td>1403</td>\n",
       "      <td>192.0</td>\n",
       "      <td>163.285714</td>\n",
       "    </tr>\n",
       "    <tr>\n",
       "      <th>2020-03-27 23:59:59</th>\n",
       "      <td>1627</td>\n",
       "      <td>224.0</td>\n",
       "      <td>171.571429</td>\n",
       "    </tr>\n",
       "    <tr>\n",
       "      <th>2020-03-28 23:59:59</th>\n",
       "      <td>1835</td>\n",
       "      <td>208.0</td>\n",
       "      <td>186.142857</td>\n",
       "    </tr>\n",
       "    <tr>\n",
       "      <th>2020-03-29 23:59:59</th>\n",
       "      <td>1889</td>\n",
       "      <td>54.0</td>\n",
       "      <td>157.142857</td>\n",
       "    </tr>\n",
       "    <tr>\n",
       "      <th>2020-03-30 23:59:59</th>\n",
       "      <td>1965</td>\n",
       "      <td>76.0</td>\n",
       "      <td>140.571429</td>\n",
       "    </tr>\n",
       "    <tr>\n",
       "      <th>2020-03-31 23:59:59</th>\n",
       "      <td>2301</td>\n",
       "      <td>336.0</td>\n",
       "      <td>178.857143</td>\n",
       "    </tr>\n",
       "    <tr>\n",
       "      <th>2020-04-01 23:59:59</th>\n",
       "      <td>2757</td>\n",
       "      <td>456.0</td>\n",
       "      <td>220.857143</td>\n",
       "    </tr>\n",
       "  </tbody>\n",
       "</table>\n",
       "</div>"
      ],
      "text/plain": [
       "                     total_casos  diarios  diarios_suavizado\n",
       "fecha                                                       \n",
       "2020-03-13 23:59:59           23      NaN                NaN\n",
       "2020-03-14 23:59:59           28      5.0                NaN\n",
       "2020-03-15 23:59:59           37      9.0                NaN\n",
       "2020-03-16 23:59:59           58     21.0                NaN\n",
       "2020-03-17 23:59:59          111     53.0                NaN\n",
       "2020-03-18 23:59:59          168     57.0                NaN\n",
       "2020-03-19 23:59:59          260     92.0                NaN\n",
       "2020-03-20 23:59:59          426    166.0          57.571429\n",
       "2020-03-21 23:59:59          532    106.0          72.000000\n",
       "2020-03-22 23:59:59          789    257.0         107.428571\n",
       "2020-03-23 23:59:59          981    192.0         131.857143\n",
       "2020-03-24 23:59:59         1049     68.0         134.000000\n",
       "2020-03-25 23:59:59         1211    162.0         149.000000\n",
       "2020-03-26 23:59:59         1403    192.0         163.285714\n",
       "2020-03-27 23:59:59         1627    224.0         171.571429\n",
       "2020-03-28 23:59:59         1835    208.0         186.142857\n",
       "2020-03-29 23:59:59         1889     54.0         157.142857\n",
       "2020-03-30 23:59:59         1965     76.0         140.571429\n",
       "2020-03-31 23:59:59         2301    336.0         178.857143\n",
       "2020-04-01 23:59:59         2757    456.0         220.857143"
      ]
     },
     "metadata": {},
     "output_type": "display_data"
    }
   ],
   "source": [
    "dfevolucion['diarios_suavizado']= dfevolucion['diarios'].rolling(7).mean()\n",
    "display(dfevolucion.head(20))"
   ]
  },
  {
   "cell_type": "markdown",
   "metadata": {},
   "source": [
    "Graficamos ahora las columnas `diarios` y `diarios_suavizado`  en la misma figura:"
   ]
  },
  {
   "cell_type": "code",
   "execution_count": 13,
   "metadata": {},
   "outputs": [
    {
     "data": {
      "image/png": "[encoded data removed]",
      "text/plain": [
       "<Figure size 432x288 with 1 Axes>"
      ]
     },
     "metadata": {
      "needs_background": "light"
     },
     "output_type": "display_data"
    }
   ],
   "source": [
    "dfevolucion[['diarios', 'diarios_suavizado']].plot(style=['-', '--'])\n",
    "plt.ylabel('Número de casos');"
   ]
  },
  {
   "cell_type": "markdown",
   "metadata": {},
   "source": [
    "Para mayor información acerca de `matplotlib`, consultar la página oficial de la biblioteca: <https://matplotlib.org/>."
   ]
  },
  {
   "cell_type": "code",
   "execution_count": null,
   "metadata": {},
   "outputs": [],
   "source": []
  }
 ],
 "metadata": {
  "kernelspec": {
   "display_name": "Python 3",
   "language": "python",
   "name": "python3"
  },
  "language_info": {
   "codemirror_mode": {
    "name": "ipython",
    "version": 3
   },
   "file_extension": ".py",
   "mimetype": "text/x-python",
   "name": "python",
   "nbconvert_exporter": "python",
   "pygments_lexer": "ipython3",
   "version": "3.8.5"
  }
 },
 "nbformat": 4,
 "nbformat_minor": 2
}
