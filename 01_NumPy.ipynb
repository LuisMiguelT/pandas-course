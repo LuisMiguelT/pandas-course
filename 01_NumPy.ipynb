{
 "cells": [
  {
   "cell_type": "markdown",
   "metadata": {},
   "source": [
    "# Cuaderno 9: Módulo NumPy\n",
    "\n",
    "NumPy es un módulo para el manejo eficiente de arreglos numéricos multidimensionales en Python. Contiene estructuras de datos y funciones optimizadas para el manejo de operaciones numéricas vectorizadas. Es la base de otras bibliotecas especializadas como `SciPy` y `pandas`. En este cuaderno, revisaremos algunas características fundamentales.\n",
    "\n",
    "La flexibilidad de los tipos de datos como lista o tupla tiene un costo: su baja eficiencia computacional."
   ]
  },
  {
   "cell_type": "code",
   "execution_count": null,
   "metadata": {},
   "outputs": [],
   "source": [
    "import time\n",
    "from random import randint\n",
    "# crear dos vectores con n enteros aleatorios entre 1 y 5000 y calcular su suma\n",
    "n = 10000000\n",
    "# medir el tiempo requerido para construir los vectores y sumarlos\n",
    "t1 = time.time()\n",
    "x = [randint(1,5000) for i in range(n)]\n",
    "y = [randint(1,5000) for i in range(n)]\n",
    "z = [x[i]+y[i] for i in range(n)]\n",
    "t2 = time.time()\n",
    "#print(\"x = {}\".format(x))\n",
    "#print(\"y = {}\".format(y))\n",
    "#print(\"z = {}\".format(z))\n",
    "print(\"Tiempo transcurrido: {}\".format(t2-t1))\n"
   ]
  },
  {
   "cell_type": "markdown",
   "metadata": {},
   "source": [
    "NumPy implementa un tipo especializado para almacenar arreglos numéricos, conjuntamente con funciones para el cálculo eficiente de operaciones matemáticas:"
   ]
  },
  {
   "cell_type": "code",
   "execution_count": null,
   "metadata": {},
   "outputs": [],
   "source": [
    "import time\n",
    "import numpy as np\n",
    "# crear dos vectores con n enteros aleatorios entre 1 y 5000 y calcular su suma\n",
    "n = 10000000\n",
    "# medir el tiempo requerido para construir los vectores y sumarlos\n",
    "t1 = time.time()\n",
    "x = np.random.randint(1, 5000, n)\n",
    "y = np.random.randint(1, 5000, n)\n",
    "z = x + y\n",
    "t2 = time.time()\n",
    "# print(\"x = {}\".format(x))\n",
    "# print(\"y = {}\".format(y))\n",
    "# print(\"z = {}\".format(z))\n",
    "print(\"Tiempo transcurrido: {}\".format(t2-t1))\n"
   ]
  },
  {
   "cell_type": "markdown",
   "metadata": {},
   "source": [
    "## Aspectos básicos\n",
    "\n",
    "Para utilizar la biblioteca NumPy debe importarse el módulo `numpy`. Es común usar el alias `np` para referirse a este módulo:"
   ]
  },
  {
   "cell_type": "code",
   "execution_count": 1,
   "metadata": {},
   "outputs": [],
   "source": [
    "import numpy as np"
   ]
  },
  {
   "cell_type": "markdown",
   "metadata": {},
   "source": [
    "NumPy define la clase `ndarray` para almacenar arreglos de elementos numéricos de un mismo tipo. Pueden construirse objetos de esta clase llamando a la función `array`:"
   ]
  },
  {
   "cell_type": "code",
   "execution_count": null,
   "metadata": {},
   "outputs": [],
   "source": [
    "x = np.array([3, 4, -1, 5, 10])\n",
    "y = np.array([[1, 2, -1], [1 , -1, 10]])\n",
    "z = np.array([[[1,2], [-5, 4], [3, 9]], [[3,5], [10, 4], [3, 0]]])\n",
    "print(x)\n",
    "print(y)\n",
    "print(z)\n",
    "print(type(x))\n",
    "print(type(y))\n",
    "print(type(z))"
   ]
  },
  {
   "cell_type": "markdown",
   "metadata": {},
   "source": [
    "Cada elemento de un `ndarray` está indexado por una tupla de enteros no negativos. La longitud de esta tupla es la *dimensión* del arreglo y se almacena en el atributo `ndim`. Así, los vectores son arreglos unidimensionales, las matrices son arreglos bidimensionales, y los arreglos con dimensiones superiores a 2 pueden utilizarse para representar tensores y objetos similares."
   ]
  },
  {
   "cell_type": "code",
   "execution_count": null,
   "metadata": {},
   "outputs": [],
   "source": [
    "print(x.ndim)\n",
    "print(y.ndim)\n",
    "print(z.ndim)\n",
    "print(x[0])\n",
    "print(y[1,2])\n",
    "print(z[1,2,1])"
   ]
  },
  {
   "cell_type": "markdown",
   "metadata": {},
   "source": [
    "Cada una de las \"dimensiones\" de un arreglo se conoce como eje (*axis*, pl. *axes*). La *forma* de un arreglo está dada por una tupla que indica el tamaño de cada uno de sus ejes. Esta tupla puede consultarse en el atributo `shape`. "
   ]
  },
  {
   "cell_type": "code",
   "execution_count": null,
   "metadata": {},
   "outputs": [],
   "source": [
    "print(x.shape)\n",
    "print(y.shape)\n",
    "print(z.shape)"
   ]
  },
  {
   "cell_type": "markdown",
   "metadata": {},
   "source": [
    "Un arreglo es una estructura regular: si su forma está dada por la tupla $(a_1, \\ldots, a_n)$, significa que el arreglo debe contener todos los elementos con índices $(i_1, \\ldots, i_n)$, para $i_k \\in \\{0, \\ldots, a_k -1\\}$, con $k \\in \\{1, \\ldots, n\\}$.\n",
    "\n",
    "Además, todos los elementos del arreglo deber ser números de un mismo tipo. Este tipo puede consultarse en el atributo `dtype`:"
   ]
  },
  {
   "cell_type": "code",
   "execution_count": null,
   "metadata": {},
   "outputs": [],
   "source": [
    "print(x.dtype)\n",
    "print(y.dtype)\n",
    "print(z.dtype)\n"
   ]
  },
  {
   "cell_type": "markdown",
   "metadata": {},
   "source": [
    "El tamaño de un arreglo es el número de elementos que contiene y está dado por el producto de todas las componentes de la tupla que indica su forma. Puede consultarse en el atributo `size`:"
   ]
  },
  {
   "cell_type": "code",
   "execution_count": null,
   "metadata": {},
   "outputs": [],
   "source": [
    "print(x.size)\n",
    "print(y.size)\n",
    "print(z.size)\n"
   ]
  },
  {
   "cell_type": "markdown",
   "metadata": {},
   "source": [
    "## Creación de arreglos\n",
    "\n",
    "La forma más común de crear un arreglo es llamando a la función `array`. Esta función recibe como parámetro una lista, posiblemente con sublistas, que representa el arreglo de acuerdo a su forma: "
   ]
  },
  {
   "cell_type": "code",
   "execution_count": null,
   "metadata": {},
   "outputs": [],
   "source": [
    "# arreglo unidimensional de 5 elementos:\n",
    "a = np.array([1, 2, 3, 4, 5])\n",
    "print(a)\n",
    "print(a.shape)\n",
    "\n",
    "# arreglo bidimensional de forma (2, 4)\n",
    "b = np.array([[1, 2, 3, 4], [5, 6, 7, 8]])\n",
    "print(b)\n",
    "print(b.shape)"
   ]
  },
  {
   "cell_type": "markdown",
   "metadata": {},
   "source": [
    "Es importante notar que la función `array` debe recibir como parámetro una **lista**. Si se pasan los elementos individuales se obtiene un error:"
   ]
  },
  {
   "cell_type": "code",
   "execution_count": null,
   "metadata": {},
   "outputs": [],
   "source": [
    " a = np.array(1, 2, 3, 4, 5)"
   ]
  },
  {
   "cell_type": "markdown",
   "metadata": {},
   "source": [
    "Es posible también definir el arreglo como unidimensional y especificar luego la forma llamando a la función `reshape`:"
   ]
  },
  {
   "cell_type": "code",
   "execution_count": null,
   "metadata": {},
   "outputs": [],
   "source": [
    "# arreglo unidimensional de 8 elementos:\n",
    "a = np.array([1, 2, 3, 4, 5, 6, 7, 8])\n",
    "print(a)\n",
    "\n",
    "# lo transformamos ahora en una matriz de (2, 4)\n",
    "a = a.reshape(2, 4)\n",
    "print(a)\n",
    "\n",
    "# y ahora en un arreglo tridimensional de forma (2, 2, 2)\n",
    "a = a.reshape(2, 2, 2)\n",
    "print(a)\n",
    "\n",
    "# las formas deben ser compatibles con el tamaño\n",
    "a = a.reshape(2, 2, 3)\n",
    "print(a)\n"
   ]
  },
  {
   "cell_type": "markdown",
   "metadata": {},
   "source": [
    "El tipo del arreglo se ajusta automáticamente al tipo más general de los elementos especificados:"
   ]
  },
  {
   "cell_type": "code",
   "execution_count": null,
   "metadata": {},
   "outputs": [],
   "source": [
    "# arreglo unidimensional de 5 enteros:\n",
    "a = np.array([1, 2, 3, 4, 5])\n",
    "print(a)\n",
    "print(a.dtype)\n",
    "\n",
    "# arreglo unidimensional de 5 decimales:\n",
    "a = np.array([1, 2, 3.1, 4, 5])\n",
    "print(a)\n",
    "print(a.dtype)\n"
   ]
  },
  {
   "cell_type": "markdown",
   "metadata": {},
   "source": [
    "La función `arange` permite construir un arreglo unidimensional con los elementos de una progresión aritmética. Su sintaxis es similar a la de la función `range` de Python:"
   ]
  },
  {
   "cell_type": "code",
   "execution_count": null,
   "metadata": {},
   "outputs": [],
   "source": [
    "# arreglo unidimensional con los números pares del -8 al 8\n",
    "a = np.arange(-8, 9, 2)\n",
    "print(a)\n",
    "\n",
    "# el mismo arreglo, pero como una matriz de forma (3, 3)\n",
    "b = np.arange(-8, 9, 2).reshape(3,3)\n",
    "print(b)\n"
   ]
  },
  {
   "cell_type": "markdown",
   "metadata": {},
   "source": [
    "Para arreglos de números decimales, suele ser más útil emplear la función `linspace(a, b, n)` que construye un arreglo con $n$ valores distribuidos uniformemente en el intervalo $[a; b]$:"
   ]
  },
  {
   "cell_type": "code",
   "execution_count": null,
   "metadata": {},
   "outputs": [],
   "source": [
    "# arreglo con 5 valores entre 0 y 360\n",
    "a = np.linspace(0, 360, 5)\n",
    "print(a)\n",
    "print(a.dtype)"
   ]
  },
  {
   "cell_type": "markdown",
   "metadata": {},
   "source": [
    "Las funciones `zeros` y `ones` permiten crear arreglos con todos los elementos iguales a 0's y 1's, respectivamente. Ambas funciones reciben como parámetros una tupla con la forma del arreglo. Adicionalmente, es posible especificar un parámetro `dtype` con el tipo de datos de los elementos:"
   ]
  },
  {
   "cell_type": "code",
   "execution_count": null,
   "metadata": {},
   "outputs": [],
   "source": [
    "# vector con 5 elementos iguales a cero\n",
    "a = np.zeros(5)\n",
    "print(a)\n",
    "print(a.dtype)\n",
    "\n",
    "# matriz con (2,3) elementos iguales a uno y de tipo entero\n",
    "b = np.ones((2,3), dtype='int64')\n",
    "print(b)\n",
    "print(b.dtype)\n"
   ]
  },
  {
   "cell_type": "markdown",
   "metadata": {},
   "source": [
    "El módulo `np.random` contiene funciones para crear arreglos con valores aleatorios de acuerdo a distintas distribuciones de probabilidad. Puede ser considerado como el equivalente del módulo `random` de Python.\n",
    "\n",
    "Por ejemplo, la función `random` crea un arreglo de la forma especificada, cuyos elementos son valores aleatorios decimales generados con la distribución uniforme en el intervalo $[0;1]$:"
   ]
  },
  {
   "cell_type": "code",
   "execution_count": null,
   "metadata": {},
   "outputs": [],
   "source": [
    "# vector de 8 componentes con elementos aleatorios en [0;1]\n",
    "a = np.random.random(8)\n",
    "print(a)\n",
    "\n",
    "# arreglo de forma (2, 4, 3) con elementos aleatorios en [0;1]\n",
    "print(np.random.random((2, 4, 3)))"
   ]
  },
  {
   "cell_type": "markdown",
   "metadata": {},
   "source": [
    "La función `randint` genera arreglos con números enteros aleatorios uniformemente distribuidos dentro de un cierto intervalo."
   ]
  },
  {
   "cell_type": "code",
   "execution_count": null,
   "metadata": {},
   "outputs": [],
   "source": [
    "# Un vector de tamaño 8 con enteros aletaorios entre -10 y 10\n",
    "print(np.random.randint(-10, 10, 8))\n",
    "\n",
    "# Una matriz de forma (3,5) con enteros aleatorios entre 0 y 100\n",
    "print(np.random.randint(0, 100, (3, 5)))"
   ]
  },
  {
   "cell_type": "markdown",
   "metadata": {},
   "source": [
    "Cuando un arreglo es muy grande, el comando `print` se salta la parte intermedia y escribe solamente los bordes:"
   ]
  },
  {
   "cell_type": "code",
   "execution_count": null,
   "metadata": {},
   "outputs": [],
   "source": [
    "print(np.random.randint(0, 100, (1000, 1000)))"
   ]
  },
  {
   "cell_type": "markdown",
   "metadata": {},
   "source": [
    "## Operaciones básicas\n",
    "\n",
    "Las operaciones aritméticas básicas pueden aplicarse sobre arreglos y se interpretan elemento a elemento. Adicionalmente, el módulo `numpy` contiene implementaciones de varias funciones reales que pueden aplicarse sobre arreglos de esta manera. Estas versiones para arreglos de las funciones escalares se conocen como *funciones universales*."
   ]
  },
  {
   "cell_type": "code",
   "execution_count": 3,
   "metadata": {},
   "outputs": [
    {
     "name": "stdout",
     "output_type": "stream",
     "text": [
      "[[ 0  1  2  3  4  5]\n",
      " [ 6  7  8  9 10 11]\n",
      " [12 13 14 15 16 17]\n",
      " [18 19 20 21 22 23]\n",
      " [24 25 26 27 28 29]]\n",
      "[[ 1.  2.  3.  4.  5.  6.]\n",
      " [ 7.  8.  9. 10. 11. 12.]\n",
      " [13. 14. 15. 16. 17. 18.]\n",
      " [19. 20. 21. 22. 23. 24.]\n",
      " [25. 26. 27. 28. 29. 30.]]\n",
      "[[ 0.  1.  2.  3.  4.  5.]\n",
      " [ 6.  7.  8.  9. 10. 11.]\n",
      " [12. 13. 14. 15. 16. 17.]\n",
      " [18. 19. 20. 21. 22. 23.]\n",
      " [24. 25. 26. 27. 28. 29.]]\n",
      "[[1.0000e+00 8.0000e+00 2.7000e+01 6.4000e+01 1.2500e+02 2.1600e+02]\n",
      " [3.4300e+02 5.1200e+02 7.2900e+02 1.0000e+03 1.3310e+03 1.7280e+03]\n",
      " [2.1970e+03 2.7440e+03 3.3750e+03 4.0960e+03 4.9130e+03 5.8320e+03]\n",
      " [6.8590e+03 8.0000e+03 9.2610e+03 1.0648e+04 1.2167e+04 1.3824e+04]\n",
      " [1.5625e+04 1.7576e+04 1.9683e+04 2.1952e+04 2.4389e+04 2.7000e+04]]\n",
      "[[ 0  2  4  6  8 10]\n",
      " [12 14 16 18 20 22]\n",
      " [24 26 28 30 32 34]\n",
      " [36 38 40 42 44 46]\n",
      " [48 50 52 54 56 58]]\n",
      "[[1.00000000e+00 2.71828183e+00 7.38905610e+00 2.00855369e+01\n",
      "  5.45981500e+01 1.48413159e+02]\n",
      " [4.03428793e+02 1.09663316e+03 2.98095799e+03 8.10308393e+03\n",
      "  2.20264658e+04 5.98741417e+04]\n",
      " [1.62754791e+05 4.42413392e+05 1.20260428e+06 3.26901737e+06\n",
      "  8.88611052e+06 2.41549528e+07]\n",
      " [6.56599691e+07 1.78482301e+08 4.85165195e+08 1.31881573e+09\n",
      "  3.58491285e+09 9.74480345e+09]\n",
      " [2.64891221e+10 7.20048993e+10 1.95729609e+11 5.32048241e+11\n",
      "  1.44625706e+12 3.93133430e+12]]\n"
     ]
    }
   ],
   "source": [
    "a = np.arange(0, 30).reshape(5, 6)\n",
    "b = np.ones((5, 6))\n",
    "print(a)\n",
    "# el operador + crea un nuevo arreglo con la suma de a y b, elemento por elemento \n",
    "print(a + b)\n",
    "# el operador * es el producto elemento a elemento\n",
    "print(a * b)\n",
    "# cada elemento de a+b elevado a la 3\n",
    "print((a+b)**3)\n",
    "# producto por escalar\n",
    "print(2*a)\n",
    "# aplicar la función universal exp a cada elemento del arreglo\n",
    "print(np.exp(a))"
   ]
  },
  {
   "cell_type": "markdown",
   "metadata": {},
   "source": [
    "Los operadores `*=` y `+=` modifican un arreglo existente en lugar de crear uno nuevo:"
   ]
  },
  {
   "cell_type": "code",
   "execution_count": null,
   "metadata": {},
   "outputs": [],
   "source": [
    "b += a\n",
    "print(b)\n",
    "b +=1\n",
    "print(b)\n",
    "b *= 2\n",
    "print(b)"
   ]
  },
  {
   "cell_type": "markdown",
   "metadata": {},
   "source": [
    "Si se realizan operaciones aritméticas entre arreglos con elementos de distintos tipos de números, automáticamente todos se convierten al tipo más general. Si esto no es posible, se genera un error:"
   ]
  },
  {
   "cell_type": "code",
   "execution_count": null,
   "metadata": {},
   "outputs": [],
   "source": [
    "a = np.random.random((4,3))\n",
    "print(a)\n",
    "print(a.dtype)\n",
    "b = np.random.randint(0, 10, (4,3))\n",
    "print(b)\n",
    "print(b.dtype)\n",
    "# se crea un nuevo arreglo con elementos decimales\n",
    "c = a + b\n",
    "print(c)\n",
    "print(c.dtype)\n",
    "# el arreglo b se suma al arreglo a\n",
    "a += b\n",
    "print(a)\n",
    "print(a.dtype)\n",
    "# esto genera un error, a no puede sumarse a b, porque no puede convertirse a int64\n",
    "b +=a"
   ]
  },
  {
   "cell_type": "markdown",
   "metadata": {},
   "source": [
    "Los operadores pueden también ser operadores de comparación, en cuyo caso generan un resultado booleano por cada elemento del arreglo:"
   ]
  },
  {
   "cell_type": "code",
   "execution_count": 4,
   "metadata": {},
   "outputs": [
    {
     "name": "stdout",
     "output_type": "stream",
     "text": [
      "[[8 8 8]\n",
      " [8 1 6]\n",
      " [0 5 6]\n",
      " [7 0 4]]\n",
      "[[False False False]\n",
      " [False  True False]\n",
      " [ True False False]\n",
      " [False  True  True]]\n"
     ]
    }
   ],
   "source": [
    "a = np.random.randint(0, 10, (4, 3))\n",
    "print(a)\n",
    "print(a < 5)"
   ]
  },
  {
   "cell_type": "markdown",
   "metadata": {},
   "source": [
    "El operador `*` denota el producto entre arreglos, elemento a elemento. Cuando se tienen matrices compatibles, puede calcularse el producto matricial empleando el operador `@` o el método `dot` de la clase `ndarray`:"
   ]
  },
  {
   "cell_type": "code",
   "execution_count": 2,
   "metadata": {},
   "outputs": [
    {
     "name": "stdout",
     "output_type": "stream",
     "text": [
      "[[1. 1.]\n",
      " [1. 1.]\n",
      " [1. 1.]]\n",
      "[[0 1 2]\n",
      " [3 4 5]]\n",
      "[[3. 5. 7.]\n",
      " [3. 5. 7.]\n",
      " [3. 5. 7.]]\n",
      "[[ 3.  3.]\n",
      " [12. 12.]]\n"
     ]
    }
   ],
   "source": [
    "a = np.ones((3,2))\n",
    "b = np.arange(6).reshape((2,3))\n",
    "print(a)\n",
    "print(b)\n",
    "print(a@b)\n",
    "print(b.dot(a))"
   ]
  },
  {
   "cell_type": "markdown",
   "metadata": {},
   "source": [
    "Existen métodos que implementan funciones útiles de agregación. Los más comunes son `min`, `max`, `sum` y `mean`. Si estos métodos se llaman sin parámetros, operan sobre todos los elementos del arreglo y retornan un valor escalar:"
   ]
  },
  {
   "cell_type": "code",
   "execution_count": 9,
   "metadata": {},
   "outputs": [
    {
     "name": "stdout",
     "output_type": "stream",
     "text": [
      "[[0 1 2]\n",
      " [3 4 5]]\n",
      "15\n",
      "5\n",
      "0\n",
      "2.5\n"
     ]
    }
   ],
   "source": [
    "a = np.arange(6).reshape((2,3))\n",
    "print(a)\n",
    "print(a.sum())\n",
    "print(a.max())\n",
    "print(a.min())\n",
    "print(a.mean())"
   ]
  },
  {
   "cell_type": "markdown",
   "metadata": {},
   "source": [
    "Estos métodos permiten también especificar un parámetro `axis` y operan en ese caso solamente sobre un eje del arreglo:"
   ]
  },
  {
   "cell_type": "code",
   "execution_count": 12,
   "metadata": {},
   "outputs": [
    {
     "name": "stdout",
     "output_type": "stream",
     "text": [
      "[[12 14 16 18]\n",
      " [20 22 24 26]\n",
      " [28 30 32 34]]\n",
      "[[12 15 18 21]\n",
      " [48 51 54 57]]\n",
      "[[ 6.  7.  8.  9.]\n",
      " [10. 11. 12. 13.]\n",
      " [14. 15. 16. 17.]]\n",
      "[[ 8  9 10 11]\n",
      " [20 21 22 23]]\n",
      "---\n",
      "[[[ 0  1  2  3]\n",
      "  [ 4  5  6  7]\n",
      "  [ 8  9 10 11]]\n",
      "\n",
      " [[12 13 14 15]\n",
      "  [16 17 18 19]\n",
      "  [20 21 22 23]]]\n",
      "---\n",
      "[[ 6 22 38]\n",
      " [54 70 86]]\n"
     ]
    }
   ],
   "source": [
    "# suma por filas\n",
    "print(a.sum(axis=0))\n",
    "# suma por columnas\n",
    "print(a.sum(axis=1))\n",
    "# promedios por filas\n",
    "print(a.mean(axis=0))\n",
    "# máximos por columnas\n",
    "print(a.max(axis=1))\n",
    "print('---')\n",
    "a = np.arange(24).reshape((2,3,4))\n",
    "print(a)\n",
    "print('---')\n",
    "print(a.sum(axis=2))"
   ]
  },
  {
   "cell_type": "markdown",
   "metadata": {},
   "source": [
    "## Indexación, *slicing* e iteración:\n",
    "\n",
    "Los arreglos unidimensionales pueden indexarse, tanto para lectura como para escritura, en la misma manera en que se indexan las listas. Esto incluye el uso de todas las técnicas disponibles de *slicing*:"
   ]
  },
  {
   "cell_type": "code",
   "execution_count": 5,
   "metadata": {},
   "outputs": [
    {
     "name": "stdout",
     "output_type": "stream",
     "text": [
      "[ 0  2  4  6  8 10 12 14 16 18]\n",
      "2\n",
      "18\n",
      "[2 4 6 8]\n",
      "[ 6 10 14]\n",
      "[ 6  8 10 12 14 16 18]\n",
      "[14 16 18]\n"
     ]
    }
   ],
   "source": [
    "a = np.arange(0,19,2)\n",
    "print(a)\n",
    "# segundo elemento\n",
    "print(a[1])\n",
    "# último elemento\n",
    "print(a[-1])\n",
    "# slice con elementos 1,..,4\n",
    "print(a[1:5])\n",
    "# slice con elementos 3,5,7\n",
    "print(a[3:8:2])\n",
    "# slice con los elementos desde el cuarto en adelante\n",
    "print(a[3:])\n",
    "# slice con los últimos 3 elementos\n",
    "print(a[-3:])\n"
   ]
  },
  {
   "cell_type": "markdown",
   "metadata": {},
   "source": [
    "Los arreglos multidimensionales se indexan por tuplas de la dimensión adecuada. Cada componente de la tupla puede ser sustuida por un *slice*:"
   ]
  },
  {
   "cell_type": "code",
   "execution_count": 6,
   "metadata": {},
   "outputs": [
    {
     "name": "stdout",
     "output_type": "stream",
     "text": [
      "[[ 1  2  3  4  5]\n",
      " [ 6  7  8  9 10]\n",
      " [11 12 13 14 15]\n",
      " [16 17 18 19 20]]\n",
      "1\n",
      "10\n",
      "[ 4  9 14 19]\n",
      "[[ 6  7  8  9 10]\n",
      " [11 12 13 14 15]]\n",
      "[[14 15]\n",
      " [19 20]]\n"
     ]
    }
   ],
   "source": [
    "a = np.arange(1, 21).reshape(4, 5)\n",
    "print(a)\n",
    "# elemento en la primera fila, primera columna\n",
    "print(a[0,0])\n",
    "# elemento en la segunda fila, última columna\n",
    "print(a[1,-1])\n",
    "# penúltima columna\n",
    "print(a[:,-2])\n",
    "# segunda y tercera filas\n",
    "print(a[1:3,:])\n",
    "# submatriz con la tercera y cuarta filas, y las dos útlimas columnas\n",
    "print(a[2:4,-2:])"
   ]
  },
  {
   "cell_type": "markdown",
   "metadata": {},
   "source": [
    "Es importante recordar que al indexar un arreglo se crean *vistas* del mismo, es decir, referencias en la memoria a sus datos. Por lo tanto, cualquier cambio realizado sobre un elemento o un *slice* afecta al arreglo original:"
   ]
  },
  {
   "cell_type": "code",
   "execution_count": 7,
   "metadata": {},
   "outputs": [
    {
     "name": "stdout",
     "output_type": "stream",
     "text": [
      "[[ 1  2  3  4  5]\n",
      " [ 6  7  8  9 10]\n",
      " [11 12 13 14 15]\n",
      " [16 17 18 19 20]]\n",
      "[1 2 3 4 5]\n",
      "[[ 1  0  0  4  0]\n",
      " [ 6  7  8  9 10]\n",
      " [11 12 13 14 15]\n",
      " [16 17 18 19 20]]\n",
      "[[ 1  0  0  4  0]\n",
      " [ 6  7  8  9 10]\n",
      " [11 12 13 14 15]\n",
      " [16 17 18 19 20]]\n",
      "[[ 1  1  1  1  1]\n",
      " [ 6  7  8  9 10]\n",
      " [11 12 13 14 15]\n",
      " [16 17 18 19 20]]\n"
     ]
    }
   ],
   "source": [
    "a = np.arange(1, 21).reshape(4, 5)\n",
    "print(a)\n",
    "b = a[0,:]\n",
    "print(b)\n",
    "# hacer ceros al 2do y 3er elementos de b\n",
    "b[1:3] =np.zeros(2)\n",
    "# hacer cero el último elemento de b\n",
    "b[-1] = 0\n",
    "# los cambios afectan a a\n",
    "print(a)\n",
    "# esto no afecta al arreglo a:\n",
    "b = np.ones(5)\n",
    "print(a)\n",
    "# pero esto sí lo hace:\n",
    "b = a[0,:]\n",
    "b[:] = np.ones(5)\n",
    "print(a)"
   ]
  },
  {
   "cell_type": "markdown",
   "metadata": {},
   "source": [
    "### Indexación por expresiones de comparación\n",
    "\n",
    "Recordemos que el resultado de aplicar un operador de comparación entre un arreglo `a` y un valor escalar es un arreglo de elementos booleanos (`True` o `False`) que corresponden a la aplicación del operador de comparación sobre cada uno de los elementos de `a`. Esta idea puede utilizarse para *filtrar* los elementos de un arreglo, al utilizar como índice una expresión de comparación:"
   ]
  },
  {
   "cell_type": "code",
   "execution_count": 9,
   "metadata": {},
   "outputs": [
    {
     "name": "stdout",
     "output_type": "stream",
     "text": [
      "[27 28 34 86 71 53 94 82 35 13]\n",
      "[ True  True  True False False False False False  True  True]\n",
      "[27 28 34 35 13]\n"
     ]
    }
   ],
   "source": [
    "# crear a como un arreglo unidimensional de 10 enteros aleatorios entre 11 y 100\n",
    "a = np.random.randint(11, 100, (10))\n",
    "print(a)\n",
    "# crear un arreglo booleano que indique cuáles elementos de a son menores a 50\n",
    "print(a < 50)\n",
    "# construir un arreglo con los elementos de a menores a 50\n",
    "print(a[a < 50])\n"
   ]
  },
  {
   "cell_type": "markdown",
   "metadata": {},
   "source": [
    "La técnica anterior puede utilizarse sobre arreglos multidimensionales, pero el resultado es un arreglo unidimensional:"
   ]
  },
  {
   "cell_type": "code",
   "execution_count": 11,
   "metadata": {},
   "outputs": [
    {
     "name": "stdout",
     "output_type": "stream",
     "text": [
      "[[0.83829413 0.70974969 0.91014397]\n",
      " [0.07381328 0.42691312 0.22006931]\n",
      " [0.84928809 0.3642653  0.91592122]\n",
      " [0.13741933 0.5331343  0.15612074]]\n",
      "[[False False False]\n",
      " [ True  True  True]\n",
      " [False  True False]\n",
      " [ True False  True]]\n",
      "[0.07381328 0.42691312 0.22006931 0.3642653  0.13741933 0.15612074]\n"
     ]
    }
   ],
   "source": [
    "# crear a como un arreglo unidimensional de 10 enteros aleatorios entre 11 y 100\n",
    "a = np.random.random((4, 3))\n",
    "print(a)\n",
    "# crear un arreglo booleano que indique cuáles elementos de a son menores a 50\n",
    "print(a < 0.5)\n",
    "# construir un arreglo con los elementos de a menores a 50\n",
    "print(a[a < 0.5])\n"
   ]
  },
  {
   "cell_type": "markdown",
   "metadata": {},
   "source": [
    "### Iteración\n",
    "Los arreglos son tipos iterables. Al iterar sobre un arreglo, se itera sobre su primer eje:"
   ]
  },
  {
   "cell_type": "code",
   "execution_count": 13,
   "metadata": {},
   "outputs": [
    {
     "name": "stdout",
     "output_type": "stream",
     "text": [
      "[[ 1  2  3  4  5]\n",
      " [ 6  7  8  9 10]\n",
      " [11 12 13 14 15]\n",
      " [16 17 18 19 20]]\n",
      "Iterando sobre filas de a:\n",
      "[1 2 3 4 5]\n",
      "---\n",
      "[ 6  7  8  9 10]\n",
      "---\n",
      "[11 12 13 14 15]\n",
      "---\n",
      "[16 17 18 19 20]\n",
      "---\n",
      "[[[ 1  2  3  4  5]\n",
      "  [ 6  7  8  9 10]]\n",
      "\n",
      " [[11 12 13 14 15]\n",
      "  [16 17 18 19 20]]]\n",
      "Iterando sobre el primer eje de a:\n",
      "[[ 1  2  3  4  5]\n",
      " [ 6  7  8  9 10]]\n",
      "---\n",
      "[[11 12 13 14 15]\n",
      " [16 17 18 19 20]]\n",
      "---\n"
     ]
    }
   ],
   "source": [
    "a = np.arange(1, 21).reshape(4, 5)\n",
    "print(a)\n",
    "print(\"Iterando sobre filas de a:\")\n",
    "for fila in a:\n",
    "    print(fila)\n",
    "    print('---')\n",
    "a = np.arange(1, 21).reshape(2, 2, 5)\n",
    "print(a)\n",
    "print(\"Iterando sobre el primer eje de a:\")\n",
    "for m in a:\n",
    "    print(m)\n",
    "    print('---')\n"
   ]
  },
  {
   "cell_type": "markdown",
   "metadata": {},
   "source": [
    "Para iterar sobre cada uno de los elementos de un arreglo sin importar su forma, puede usarse el método `flat` que proyecta el arreglo a un sola dimensión:"
   ]
  },
  {
   "cell_type": "code",
   "execution_count": 14,
   "metadata": {},
   "outputs": [
    {
     "name": "stdout",
     "output_type": "stream",
     "text": [
      "[[[ 1  2  3  4  5]\n",
      "  [ 6  7  8  9 10]]\n",
      "\n",
      " [[11 12 13 14 15]\n",
      "  [16 17 18 19 20]]]\n",
      "1\n",
      "2\n",
      "3\n",
      "4\n",
      "5\n",
      "6\n",
      "7\n",
      "8\n",
      "9\n",
      "10\n",
      "11\n",
      "12\n",
      "13\n",
      "14\n",
      "15\n",
      "16\n",
      "17\n",
      "18\n",
      "19\n",
      "20\n"
     ]
    }
   ],
   "source": [
    "a = np.arange(1, 21).reshape(2, 2, 5)\n",
    "print(a)\n",
    "for m in a.flat:\n",
    "    print(m)\n"
   ]
  },
  {
   "cell_type": "markdown",
   "metadata": {},
   "source": [
    "## Más información\n",
    "\n",
    "Para información más detallada acerca de la biblioteca NumPy, incluyendo una guía del usuario y una guía de referencia del API, puede consultarse el sitio web <https://numpy.org/devdocs/user/quickstart.html>."
   ]
  },
  {
   "cell_type": "code",
   "execution_count": null,
   "metadata": {},
   "outputs": [],
   "source": []
  }
 ],
 "metadata": {
  "kernelspec": {
   "display_name": "Python 3",
   "language": "python",
   "name": "python3"
  },
  "language_info": {
   "codemirror_mode": {
    "name": "ipython",
    "version": 3
   },
   "file_extension": ".py",
   "mimetype": "text/x-python",
   "name": "python",
   "nbconvert_exporter": "python",
   "pygments_lexer": "ipython3",
   "version": "3.8.5"
  }
 },
 "nbformat": 4,
 "nbformat_minor": 4
}
